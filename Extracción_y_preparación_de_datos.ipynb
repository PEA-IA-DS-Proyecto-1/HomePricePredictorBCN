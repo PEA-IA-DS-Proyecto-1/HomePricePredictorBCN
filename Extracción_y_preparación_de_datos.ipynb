{
  "nbformat": 4,
  "nbformat_minor": 0,
  "metadata": {
    "colab": {
      "provenance": [],
      "authorship_tag": "ABX9TyOCwR6VnJbu8DtEyUB9EXmj",
      "include_colab_link": true
    },
    "kernelspec": {
      "name": "python3",
      "display_name": "Python 3"
    },
    "language_info": {
      "name": "python"
    }
  },
  "cells": [
    {
      "cell_type": "markdown",
      "metadata": {
        "id": "view-in-github",
        "colab_type": "text"
      },
      "source": [
        "<a href=\"https://colab.research.google.com/github/PEA-IA-DS-Proyecto-1/HomePricePredictorBCN/blob/main/Extracci%C3%B3n_y_preparaci%C3%B3n_de_datos.ipynb\" target=\"_parent\"><img src=\"https://colab.research.google.com/assets/colab-badge.svg\" alt=\"Open In Colab\"/></a>"
      ]
    },
    {
      "cell_type": "markdown",
      "source": [
        "### **Uso de SQL y Python:** Extraer los datos de precios de viviendas desde el portal Fotocasa. Se requiere que los datos sean almacenados en una base de datos y manipulados usando SQL para su posterior análisis."
      ],
      "metadata": {
        "id": "PTj3a3822YLY"
      }
    },
    {
      "cell_type": "markdown",
      "source": [
        "Consideramos que no es necerario realizar ninguna acción en este punto puesto que ya existe el Dataset que ha sido extraido de la web de Fotocasa"
      ],
      "metadata": {
        "id": "-wox6hSm2cnI"
      }
    },
    {
      "cell_type": "markdown",
      "source": [
        "### **Formulación del problema de negocio:** El equipo debe definir claramente el problema de predicción, identificando las variables relevantes como la ubicación (código postal o coordenadas), tamaño del inmueble, número de habitaciones, antigüedad, entre otras."
      ],
      "metadata": {
        "id": "JBAi_K9C3KW2"
      }
    },
    {
      "cell_type": "markdown",
      "source": [
        "Pensamos que el problema de prediccion viene determinado por el propio proyecto y que no precisa de mayor  precisíon. En cuanto a la identificación de las variables relevantes, consideramos que debido a la poca información que posee cada  registro todas las variables pueden ser de utilidad o bien para el EDA o bien para el modelado predictivo. **(Queda pendiente de valoración al realizar el modelado predictivo no he hecho ningun añalisis para determinar esto**)"
      ],
      "metadata": {
        "id": "MZYwEvPe3sNE"
      }
    },
    {
      "cell_type": "markdown",
      "source": [
        "# 1.  **Preparación del dataset:**\n",
        "\n",
        "A través de Python y SQL, se debe limpiar y transformar el dataset para eliminar inconsistencias, manejar valores nulos y realizar una correcta codificación de las variables categóricas."
      ],
      "metadata": {
        "id": "A55vER_G6yyW"
      }
    },
    {
      "cell_type": "markdown",
      "source": [
        "Los pasos que vamos a seguir para preparar nuestro Dataset van a ser los siguientes"
      ],
      "metadata": {
        "id": "UT7gcW8W67HK"
      }
    },
    {
      "cell_type": "markdown",
      "source": [
        "1. **EDA Básico a origen y Revisar Datos Faltantes**:\n",
        "   - Identificación campos vacíos o nulos.\n",
        "   - Decisión de imitar, eliminar o completar esos datos según su importancia.\n",
        "\n",
        "2. **Verificar Valores Inconsistentes**:\n",
        "   - Nos aseguraremos de que los rangos de superficie, precio, baños y habitaciones sean razonables.\n",
        "   - Por ejemplo, que el precio no sea negativo o que la superficie tenga una cifra lógica en relación con la cantidad de habitaciones.\n",
        "\n",
        "3. **Normalización de Datos**:\n",
        "   - Unificaremos formatos en caso necesario (por ejemplo, convertir los precios a una sola moneda o utilizar la misma unidad para la superficie).\n",
        "   - Para las categorías barrio y tipo de propiedad, nos aseguraremos de que no haya variaciones en la escritura (p. ej., \"Eixample\" contra \"eixample\").\n",
        "\n",
        "4. **Eliminación de Duplicados**:\n",
        "   - Buscaremos entradas duplicadas que puedan distorsionar el análisis.\n",
        "\n",
        "5. **Manejo de los Outliers**:\n",
        "   - Identificaremos valores atípicos que podrían ser errores de entrada (por ejemplo, un precio de alquiler extremadamente alto o bajo) y decidiremos si lo mantenemos, lo corregimos o lo eliminamos.\n",
        "\n",
        "6. **Validación de Categorías Booleanas**:\n",
        "   - Para el ascensor y la terraza, asegúrarnos de que los valores sean consistentes (por ejemplo, \"sí\" / \"no\" o 1/0 o Verdadero/Falso, etc.).\n",
        "\n",
        "7. **Conversión de Tipos de Datos**:\n",
        "   - Asegúrarnos de que cada columna tiene el tipo de dato adecuado y en caso contrario convertirlo, como por ejemplo el precio a formato numérico si está en texto.\n"
      ],
      "metadata": {
        "id": "ctTZ3GDL7XVe"
      }
    },
    {
      "cell_type": "markdown",
      "source": [
        "Otros aspectos que consideraremos antes y despues de la preparación del Dataset son:\n",
        "\n",
        "**PREVIO A LA PREPARACION**\n",
        "\n",
        "**Establecimiento de Estructura del DataSet**:\n",
        "   - Dicha estructura ha quedado definida durante la formulación del problema de negocio que a su vez viene determinada por el propio proyecto, tal como se explica en puntos anteriores.\n",
        "\n",
        "**POSTERIOR A LA PREPARACION**\n",
        "\n",
        "**Documentación de Cambios**:\n",
        "   - Mantendremos un registro de todas las modificaciones realizadas al dataset para conseguir transparencia y facilitar auditorías o revisiones.\n",
        "\n",
        "**PREVIO Y POSTERIOR A LA PREPARACION**\n",
        "\n",
        "**Visualización Inicial y Final**:\n",
        "    - Visualizaremos el dataset antes y después de la limpieza para entender el impacto de los cambios."
      ],
      "metadata": {
        "id": "W032GM99-Tv2"
      }
    },
    {
      "cell_type": "markdown",
      "source": [
        "1. **EDA Basico a origen y Revisar Datos Faltantes**"
      ],
      "metadata": {
        "id": "BZR_8klnAnar"
      }
    },
    {
      "cell_type": "markdown",
      "source": [
        "        FASE DE EDA BASICA A ORIGEN"
      ],
      "metadata": {
        "id": "mAdZ6eeXYyZF"
      }
    },
    {
      "cell_type": "code",
      "source": [
        "#Importar librerias y DataSet\n",
        "import pandas as pd\n",
        "import matplotlib.pyplot as plt\n",
        "import seaborn as sns\n",
        "\n",
        "url = 'https://raw.githubusercontent.com/PEA-IA-DS-Proyecto-1/HomePricePredictorBCN/main/Barcelona_Fotocasa_HousingPrices.csv'\n",
        "df = pd.read_csv(url)"
      ],
      "metadata": {
        "id": "gQt0zxLiAzb8"
      },
      "execution_count": 35,
      "outputs": []
    },
    {
      "cell_type": "code",
      "source": [
        "#Listar los campos del Dataset\n",
        "df.columns.tolist()"
      ],
      "metadata": {
        "id": "VuN-ij2NE8CX",
        "colab": {
          "base_uri": "https://localhost:8080/",
          "height": 0
        },
        "outputId": "d00b7fc7-fb6c-4c15-bb38-fde9d3767606"
      },
      "execution_count": 36,
      "outputs": [
        {
          "output_type": "execute_result",
          "data": {
            "text/plain": [
              "['Unnamed: 0',\n",
              " 'price',\n",
              " 'rooms',\n",
              " 'bathroom',\n",
              " 'lift',\n",
              " 'terrace',\n",
              " 'square_meters',\n",
              " 'real_state',\n",
              " 'neighborhood',\n",
              " 'square_meters_price']"
            ]
          },
          "metadata": {},
          "execution_count": 36
        }
      ]
    },
    {
      "cell_type": "code",
      "source": [
        "#Listar informacion del Dataset\n",
        "df.info()"
      ],
      "metadata": {
        "id": "1opEfhkJxPHs",
        "colab": {
          "base_uri": "https://localhost:8080/",
          "height": 0
        },
        "outputId": "db621150-cfb2-45e2-f655-21fa14285afd"
      },
      "execution_count": 37,
      "outputs": [
        {
          "output_type": "stream",
          "name": "stdout",
          "text": [
            "<class 'pandas.core.frame.DataFrame'>\n",
            "RangeIndex: 8188 entries, 0 to 8187\n",
            "Data columns (total 10 columns):\n",
            " #   Column               Non-Null Count  Dtype  \n",
            "---  ------               --------------  -----  \n",
            " 0   Unnamed: 0           8188 non-null   int64  \n",
            " 1   price                8188 non-null   int64  \n",
            " 2   rooms                8188 non-null   int64  \n",
            " 3   bathroom             8188 non-null   int64  \n",
            " 4   lift                 8188 non-null   bool   \n",
            " 5   terrace              8188 non-null   bool   \n",
            " 6   square_meters        8188 non-null   int64  \n",
            " 7   real_state           7920 non-null   object \n",
            " 8   neighborhood         8188 non-null   object \n",
            " 9   square_meters_price  8188 non-null   float64\n",
            "dtypes: bool(2), float64(1), int64(5), object(2)\n",
            "memory usage: 527.9+ KB\n"
          ]
        }
      ]
    },
    {
      "cell_type": "code",
      "source": [
        "# Descripción estadística básica\n",
        "print(df.describe())"
      ],
      "metadata": {
        "id": "yFNQhrSIXBob",
        "colab": {
          "base_uri": "https://localhost:8080/",
          "height": 0
        },
        "outputId": "28c80765-335c-4c2b-cba3-46bb0adcd666"
      },
      "execution_count": 38,
      "outputs": [
        {
          "output_type": "stream",
          "name": "stdout",
          "text": [
            "        Unnamed: 0         price        rooms     bathroom  square_meters  \\\n",
            "count  8188.000000   8188.000000  8188.000000  8188.000000    8188.000000   \n",
            "mean   4093.500000   1444.092574     2.420738     1.508793      84.610161   \n",
            "std    2363.816335   1125.886215     1.138592     0.732798      47.874028   \n",
            "min       0.000000    320.000000     0.000000     1.000000      10.000000   \n",
            "25%    2046.750000    875.000000     2.000000     1.000000      56.000000   \n",
            "50%    4093.500000   1100.000000     2.000000     1.000000      73.000000   \n",
            "75%    6140.250000   1540.000000     3.000000     2.000000      95.000000   \n",
            "max    8187.000000  15000.000000    10.000000     8.000000     679.000000   \n",
            "\n",
            "       square_meters_price  \n",
            "count          8188.000000  \n",
            "mean             17.739121  \n",
            "std               9.245241  \n",
            "min               4.910714  \n",
            "25%              12.790698  \n",
            "50%              15.306122  \n",
            "75%              19.444444  \n",
            "max             186.666667  \n"
          ]
        }
      ]
    },
    {
      "cell_type": "markdown",
      "source": [
        "        FASE DE REVISION DE DATOS FALTANTES"
      ],
      "metadata": {
        "id": "skxzDjBlZCY6"
      }
    },
    {
      "cell_type": "code",
      "source": [
        "#Identificación campos vacíos o nulos.\n",
        "\n",
        "valores_faltantes = df.isnull().sum()\n",
        "\n",
        "# Porcentaje de valores faltantes\n",
        "porcentaje_faltantes = (df.isnull().sum() / len(df)) * 100\n",
        "missing_info = pd.DataFrame({\n",
        "    'Valores Faltantes': valores_faltantes,\n",
        "    'Porcentaje (%)': porcentaje_faltantes.apply(lambda x: \"{:.2f}%\".format(x))\n",
        "})\n",
        "print(missing_info)"
      ],
      "metadata": {
        "id": "mtsXGbWkBglU",
        "colab": {
          "base_uri": "https://localhost:8080/",
          "height": 0
        },
        "outputId": "f081c9c2-dc31-4f83-8c8f-28079fc68b67"
      },
      "execution_count": 39,
      "outputs": [
        {
          "output_type": "stream",
          "name": "stdout",
          "text": [
            "                     Valores Faltantes Porcentaje (%)\n",
            "Unnamed: 0                           0          0.00%\n",
            "price                                0          0.00%\n",
            "rooms                                0          0.00%\n",
            "bathroom                             0          0.00%\n",
            "lift                                 0          0.00%\n",
            "terrace                              0          0.00%\n",
            "square_meters                        0          0.00%\n",
            "real_state                         268          3.27%\n",
            "neighborhood                         0          0.00%\n",
            "square_meters_price                  0          0.00%\n"
          ]
        }
      ]
    },
    {
      "cell_type": "markdown",
      "source": [
        "Tras el testeo se observan 268 registros con valores nulos en el campo real_state y aunque el porcentaje de valores nulos sobre el total es bajo ( menor del 5%), validaremos si esta distribuido de manera  equilibrada entre barrios o si hay barrios en los que afecte mas de un 5% y la afectación se pueda considerar moderada o alta."
      ],
      "metadata": {
        "id": "yEtvyeJ5EPWL"
      }
    },
    {
      "cell_type": "code",
      "source": [
        "# Codigos para decidir si imitar, eliminar o completar los datos NaN del campo real_state.\n",
        "\n",
        "# Agrupar por barrio y contar los valores nulos en 'real_state'\n",
        "null_counts_by_neighborhood = df.groupby('neighborhood')['real_state'].apply(lambda x: x.isnull().sum())\n",
        "\n",
        "# Calcular el total de unidades por barrio\n",
        "total_units_by_neighborhood = df['neighborhood'].value_counts()\n",
        "\n",
        "# Crear un DataFrame con la información del porcentaje\n",
        "percentage_info = pd.DataFrame({\n",
        "    'Porcentaje de NaN sobre el total de unidades (%)': (null_counts_by_neighborhood / total_units_by_neighborhood * 100).apply(lambda x: \"{:.2f}%\".format(x))\n",
        "}, index=null_counts_by_neighborhood.index)\n",
        "\n",
        "# Ordenar el DataFrame por el porcentaje\n",
        "percentage_info = percentage_info.sort_values(by='Porcentaje de NaN sobre el total de unidades (%)', ascending=False)\n",
        "\n",
        "# Imprimir la información por pantalla\n",
        "print(percentage_info)\n"
      ],
      "metadata": {
        "colab": {
          "base_uri": "https://localhost:8080/",
          "height": 0
        },
        "id": "YufjkQsoEXTY",
        "outputId": "cdefc84d-28f5-4553-a9cf-8aa79ca35714"
      },
      "execution_count": 40,
      "outputs": [
        {
          "output_type": "stream",
          "name": "stdout",
          "text": [
            "                    Porcentaje de NaN sobre el total de unidades (%)\n",
            "neighborhood                                                        \n",
            "Sarria-Sant Gervasi                                            5.44%\n",
            "Gràcia                                                         4.36%\n",
            "Sant Martí                                                     4.05%\n",
            "Ciutat Vella                                                   3.74%\n",
            "Horta- Guinardo                                                3.17%\n",
            "Sants-Montjuïc                                                 3.05%\n",
            "Les Corts                                                      2.29%\n",
            "Sant Andreu                                                    2.25%\n",
            "Eixample                                                       1.71%\n",
            "Nou Barris                                                     0.88%\n"
          ]
        }
      ]
    },
    {
      "cell_type": "markdown",
      "source": [
        "Los valores  nulos estan repartidos de un modo bastante equilibrado entre barrios y afecta de un modo minimo y similar a todos los barrios, aunque en Sarria-Sant Gervasi afecta sobre el total de manera moderada"
      ],
      "metadata": {
        "id": "5S-25hsCN3ff"
      }
    },
    {
      "cell_type": "markdown",
      "source": [
        "CONCLUSION\n",
        "\n",
        "Dado que el peso que tienen los valores NaN sobre el total del Dataset es bajo y sobre cada barrio tambien podemos considerarlo bajo, optaremos por eliminar los registros aunque a modo de test crearemos un nuevo fichero con los registros eliminados al que le daremos el valor de tipo de vivienda al campo que contiene el NaN tras aplicar una media de la superficie del tipo de viviendas por cada barrio. De este modo podemos disponer de la totalidad de datos en dos bases de datos por si fuese necesario recurrir a esos datos mas adelante."
      ],
      "metadata": {
        "id": "H4n1t-ExVwjX"
      }
    },
    {
      "cell_type": "code",
      "source": [
        "#Implementación de la CONCLUSION\n",
        "\n",
        "# Cálculo de la mediana de metros cuadrados para cada tipo de vivienda en cada barrio\n",
        "median_square_meters = df.groupby(['neighborhood', 'real_state'])['square_meters'].median().reset_index()\n",
        "\n",
        "# Renombrar columna para evitar conflictos\n",
        "median_square_meters.rename(columns={'square_meters': 'median_square_meters'}, inplace=True)\n",
        "\n",
        "# Función para encontrar el tipo de vivienda más cercano basado en el valor medio de metros cuadrados\n",
        "def find_closest_real_state(row):\n",
        "    if pd.isna(row['real_state']):\n",
        "        # Filtrado del DataFrame de medias para obtener el tipo de vivienda con el valor medio más cercano\n",
        "        neighborhood_data = median_square_meters[median_square_meters['neighborhood'] == row['neighborhood']]\n",
        "        closest_real_state = neighborhood_data.iloc[(neighborhood_data['median_square_meters'] - row['square_meters']).abs().argsort()[:1]]['real_state'].values[0]\n",
        "        return closest_real_state\n",
        "    else:\n",
        "        return row['real_state']\n",
        "\n",
        "# Aplicar función y listar los resultados\n",
        "df['predicted_real_state'] = df.apply(find_closest_real_state, axis=1)\n",
        "\n",
        "# Filtrar de los registros con NaN en el campo real_state\n",
        "result = df[pd.isna(df['real_state'])][['neighborhood', 'square_meters', 'predicted_real_state']]\n",
        "\n",
        "print(result)\n",
        "\n",
        "# Guardar exclusivamente los datos de los registros con NaN imputando a estos el valor real_state en base a la mediana de la superficie\n",
        "# por cada real_state en funcion del barrio en un nuevo archivo CSV\n",
        "# result.to_csv('ONLY_NaN_to_MEDIAN_Barcelona_Fotocasa_HousingPrices.csv', index=False)\n",
        "\n",
        "# Eliminar las filas con valores NaN en la columna 'real_state'\n",
        "df_clean = df.dropna(subset=['real_state']).drop('predicted_real_state', axis=1)\n",
        "\n",
        "# Guardar los cambios\n",
        "#df_clean.to_csv('/content/NaN_OUT_Barcelona_Fotocasa_HousingPrices.csv', index=False)"
      ],
      "metadata": {
        "id": "tGXdKJDlX0rp",
        "colab": {
          "base_uri": "https://localhost:8080/",
          "height": 0
        },
        "outputId": "cb636b3a-c883-4383-adab-b2d0a76a8b4c"
      },
      "execution_count": 41,
      "outputs": [
        {
          "output_type": "stream",
          "name": "stdout",
          "text": [
            "             neighborhood  square_meters predicted_real_state\n",
            "16        Horta- Guinardo            129                attic\n",
            "57    Sarria-Sant Gervasi             85                 flat\n",
            "63    Sarria-Sant Gervasi             85                 flat\n",
            "78         Sants-Montjuïc             90                 flat\n",
            "83           Ciutat Vella             46                study\n",
            "...                   ...            ...                  ...\n",
            "8042         Ciutat Vella             53            apartment\n",
            "8059       Sants-Montjuïc            115                 flat\n",
            "8113         Ciutat Vella             55            apartment\n",
            "8120             Eixample             80                 flat\n",
            "8127               Gràcia             60            apartment\n",
            "\n",
            "[268 rows x 3 columns]\n"
          ]
        }
      ]
    },
    {
      "cell_type": "markdown",
      "source": [
        "2. **Verificar Valores Inconsistentes**:"
      ],
      "metadata": {
        "id": "bASj3Cxacl3v"
      }
    },
    {
      "cell_type": "code",
      "source": [
        "# Verificar valores inconsistentes\n",
        "def verificar_inconsistencias(df_clean):\n",
        "    inconsistencias = {}\n",
        "\n",
        "    # Verificar precios negativos o cero\n",
        "    inconsistencias['precio_cero_negativo'] = df_clean[df_clean['price'] <= 0]\n",
        "\n",
        "    # Verificar superficies negativas o cero\n",
        "    inconsistencias['superficie_cero_negativa'] = df_clean[df_clean['square_meters'] <= 0]\n",
        "\n",
        "    # Verificar baños negativos o cero\n",
        "    inconsistencias['baños_cero_negativos'] = df_clean[df_clean['bathroom'] <= 0]\n",
        "\n",
        "    # Verificar habitaciones negativas o cero\n",
        "    inconsistencias['habitaciones_cero_negativas'] = df_clean[df_clean['rooms'] <= 0]\n",
        "\n",
        "    # Verificar relación superficie-habitaciones\n",
        "    inconsistencias['superficie_habitaciones'] = df_clean[df_clean['square_meters'] / df_clean['rooms'] < 10]\n",
        "    return inconsistencias\n",
        "\n",
        "# Llamar a la función y mostrar las inconsistencias\n",
        "inconsistencias = verificar_inconsistencias(df_clean)\n",
        "for key, value in inconsistencias.items():\n",
        "    print(f\"{key}:\\n{value}\\n\")\n"
      ],
      "metadata": {
        "colab": {
          "base_uri": "https://localhost:8080/",
          "height": 0
        },
        "id": "Ir8B6Eh2cmeV",
        "outputId": "343e13bb-474e-404d-c6f1-16bc410d8b0f"
      },
      "execution_count": 42,
      "outputs": [
        {
          "output_type": "stream",
          "name": "stdout",
          "text": [
            "precio_cero_negativo:\n",
            "Empty DataFrame\n",
            "Columns: [Unnamed: 0, price, rooms, bathroom, lift, terrace, square_meters, real_state, neighborhood, square_meters_price]\n",
            "Index: []\n",
            "\n",
            "superficie_cero_negativa:\n",
            "Empty DataFrame\n",
            "Columns: [Unnamed: 0, price, rooms, bathroom, lift, terrace, square_meters, real_state, neighborhood, square_meters_price]\n",
            "Index: []\n",
            "\n",
            "baños_cero_negativos:\n",
            "Empty DataFrame\n",
            "Columns: [Unnamed: 0, price, rooms, bathroom, lift, terrace, square_meters, real_state, neighborhood, square_meters_price]\n",
            "Index: []\n",
            "\n",
            "habitaciones_cero_negativas:\n",
            "      Unnamed: 0  price  rooms  bathroom   lift  terrace  square_meters  \\\n",
            "138          138    650      0         1   True    False             28   \n",
            "472          472   1900      0         3   True     True            145   \n",
            "671          671    635      0         1  False    False             37   \n",
            "675          675    795      0         1   True    False             34   \n",
            "686          686    790      0         1  False     True             36   \n",
            "...          ...    ...    ...       ...    ...      ...            ...   \n",
            "7706        7706  10750      0         1   True    False            679   \n",
            "7803        7803    750      0         1   True     True             43   \n",
            "7915        7915   1350      0         1   True    False             90   \n",
            "7970        7970   1150      0         1  False    False             80   \n",
            "8170        8170   1050      0         1  False    False             35   \n",
            "\n",
            "     real_state         neighborhood  square_meters_price  \n",
            "138   apartment         Ciutat Vella            23.214286  \n",
            "472        flat            Les Corts            13.103448  \n",
            "671        flat         Ciutat Vella            17.162162  \n",
            "675        flat  Sarria-Sant Gervasi            23.382353  \n",
            "686       study         Ciutat Vella            21.944444  \n",
            "...         ...                  ...                  ...  \n",
            "7706       flat           Sant Martí            15.832106  \n",
            "7803       flat  Sarria-Sant Gervasi            17.441860  \n",
            "7915       flat             Eixample            15.000000  \n",
            "7970       flat  Sarria-Sant Gervasi            14.375000  \n",
            "8170  apartment         Ciutat Vella            30.000000  \n",
            "\n",
            "[152 rows x 10 columns]\n",
            "\n",
            "superficie_habitaciones:\n",
            "      Unnamed: 0  price  rooms  bathroom  lift  terrace  square_meters  \\\n",
            "3162        3162    900      3         1  True    False             11   \n",
            "8055        8055    320      3         1  True    False             14   \n",
            "\n",
            "     real_state    neighborhood  square_meters_price  \n",
            "3162       flat  Sants-Montjuïc            81.818182  \n",
            "8055       flat  Sants-Montjuïc            22.857143  \n",
            "\n"
          ]
        }
      ]
    },
    {
      "cell_type": "markdown",
      "source": [
        "De la verificación de valores inconsistentes considerando como tal un valor igual o menor a cero y la relación entre habitaciones y superficie, concluimos lo siguiente:\n",
        "\n",
        "\n",
        "\n",
        "*   No existen valores inconsistentes en ningún registro de la tabla para los campos precio, superficie y nº de baños.\n",
        "*   Existen 152 registros afectados por insoncistencias para el campo habitaciones donde el valor es cero o inferior. **Hay que explorar con mas profundidad esta anomalia para determinar que hacer con los datos**\n",
        "*   En la relación entre superficie y habitaciones existen dos registros afectados, donde el numero de habitaciones en relación con la superficie no se corresponde. **Dado que la afectación sobre el total de datos es practicamente nula optaremos por eliminar esos dos registros.**"
      ],
      "metadata": {
        "id": "CFIql5CAXCuo"
      }
    },
    {
      "cell_type": "code",
      "source": [
        "# Estudio en profundidad de la inconsistencia de datos localizada para 152 registros de la BBDD\n",
        "# en relación con el numero de habitaciones\n",
        "\n",
        "inconsistent_rooms_df = inconsistencias['habitaciones_cero_negativas']\n",
        "\n",
        "# Estadísticas descriptivas\n",
        "print(\"Estadísticas descriptivas:\")\n",
        "print(inconsistent_rooms_df[['rooms', 'square_meters', 'price']].describe())\n",
        "\n",
        "# Función para agrupar y contar registros inconsistentes\n",
        "def count_inconsistent_records(df_clean, group_by_column):\n",
        "    counts = df_clean.groupby(group_by_column)[group_by_column].count()\n",
        "    info = pd.DataFrame({'Total de registros inconsistentes': counts}, index=counts.index)\n",
        "    return info.sort_values(by='Total de registros inconsistentes', ascending=True)\n",
        "\n",
        "# Agrupar por barrio y por tipo de vivienda\n",
        "inconsistent_info_neighborhood = count_inconsistent_records(inconsistent_rooms_df, 'neighborhood')\n",
        "inconsistent_info_real_state = count_inconsistent_records(inconsistent_rooms_df, 'real_state')\n",
        "\n",
        "# Imprimir la información por pantalla\n",
        "print(\"\\n\", inconsistent_info_neighborhood)\n",
        "print(\"\\n\", inconsistent_info_real_state)\n",
        "\n",
        "# Crear una tabla de contingencia para los registros inconsistentes\n",
        "inconsistent_matrix = pd.crosstab(inconsistent_rooms_df['neighborhood'], inconsistent_rooms_df['real_state'], margins=True, margins_name=\"Total\")\n",
        "\n",
        "# Imprimir la matriz por pantalla\n",
        "print(\"\\n\", 'Matriz de  contingencia entre tipo de vivienda y barrio para valores inconsistentes')\n",
        "print(\"\\n\", inconsistent_matrix)\n"
      ],
      "metadata": {
        "colab": {
          "base_uri": "https://localhost:8080/",
          "height": 0
        },
        "id": "op5DBb1Lfolk",
        "outputId": "78c84115-9740-4768-bfc5-cc6ee5539f32"
      },
      "execution_count": 43,
      "outputs": [
        {
          "output_type": "stream",
          "name": "stdout",
          "text": [
            "Estadísticas descriptivas:\n",
            "       rooms  square_meters         price\n",
            "count  152.0     152.000000    152.000000\n",
            "mean     0.0      59.625000    983.276316\n",
            "std      0.0      70.100383   1098.705416\n",
            "min      0.0      15.000000    423.000000\n",
            "25%      0.0      30.000000    599.750000\n",
            "50%      0.0      40.000000    725.000000\n",
            "75%      0.0      58.000000    892.500000\n",
            "max      0.0     679.000000  10750.000000\n",
            "\n",
            "                      Total de registros inconsistentes\n",
            "neighborhood                                          \n",
            "Sant Andreu                                          3\n",
            "Nou Barris                                           4\n",
            "Sant Martí                                           5\n",
            "Horta- Guinardo                                      6\n",
            "Les Corts                                            9\n",
            "Sants-Montjuïc                                      12\n",
            "Gràcia                                              16\n",
            "Sarria-Sant Gervasi                                 24\n",
            "Eixample                                            30\n",
            "Ciutat Vella                                        43\n",
            "\n",
            "             Total de registros inconsistentes\n",
            "real_state                                   \n",
            "attic                                      10\n",
            "apartment                                  22\n",
            "study                                      51\n",
            "flat                                       69\n",
            "\n",
            " Matriz de  contingencia entre tipo de vivienda y barrio para valores inconsistentes\n",
            "\n",
            " real_state           apartment  attic  flat  study  Total\n",
            "neighborhood                                             \n",
            "Ciutat Vella                 8      2    20     13     43\n",
            "Eixample                     8      2    15      5     30\n",
            "Gràcia                       2      1     5      8     16\n",
            "Horta- Guinardo              0      0     2      4      6\n",
            "Les Corts                    2      2     3      2      9\n",
            "Nou Barris                   0      1     3      0      4\n",
            "Sant Andreu                  0      0     1      2      3\n",
            "Sant Martí                   0      0     2      3      5\n",
            "Sants-Montjuïc               0      2     5      5     12\n",
            "Sarria-Sant Gervasi          2      0    13      9     24\n",
            "Total                       22     10    69     51    152\n"
          ]
        }
      ]
    },
    {
      "cell_type": "markdown",
      "source": [
        "Del estudio estadistico, los listados agrupados por tipo de vivienda o por barrio e incluso de la matriz de contingencia aplicadas todas estas soluciones sobre los datos inconsistentes, no se aprecia una clara implicación de estos en futuras acciones que podamos realizar con ellos y por tanto sigue sin ser posible decidir que hacer con estos registros inconsistentes con valor cero o inferior en el campo rooms."
      ],
      "metadata": {
        "id": "Q4ao_Dhz3YOY"
      }
    },
    {
      "cell_type": "code",
      "source": [
        "#Matriz de correlación considerando todos los valores y solo los que tienen mas de cero habitaciones\n",
        "\n",
        "# Seleccionar solo las columnas numéricas excepto la columna \"Unnamed: 0\" (esta ultima columna es el key)\n",
        "numeric_columns = df_clean.select_dtypes(include=['number']).drop(columns=['Unnamed: 0'], errors='ignore').columns\n",
        "\n",
        "# Calcular la matriz de correlación para todos los datos\n",
        "correlation_matrix_all = df_clean[numeric_columns].corr()\n",
        "\n",
        "# Calcular la matriz de correlación para los datos filtrados\n",
        "filtered_df = df_clean[df_clean['rooms'] > 0]\n",
        "correlation_matrix_filtered = filtered_df[numeric_columns].corr()\n",
        "\n",
        "# Crear la figura con 2 subplots\n",
        "fig, axes = plt.subplots(1, 2, figsize=(16, 6))\n",
        "\n",
        "# Subplots 1 y 2: Matriz de correlación para todos los datos y para los datos filtrados\n",
        "sns.heatmap(correlation_matrix_all, annot=True, cmap='coolwarm', fmt=\".2f\", ax=axes[0], cbar=False)\n",
        "axes[0].set_title('Matriz de Correlación (Sin Nan)')\n",
        "sns.heatmap(correlation_matrix_filtered, annot=True, cmap='coolwarm', fmt=\".2f\", ax=axes[1], cbar=False, yticklabels=False)\n",
        "axes[1].set_title('Matriz de Correlación (SIN Nan ni rooms <= 0)')\n",
        "\n",
        "fig.colorbar(axes[0].collections[0], ax=axes, location=\"right\") # Añadir una sola colorbar\n",
        "plt.show()"
      ],
      "metadata": {
        "colab": {
          "base_uri": "https://localhost:8080/",
          "height": 675
        },
        "id": "bUwsZZXppC7i",
        "outputId": "e7b0c231-f8bb-4a7a-b939-6309346ccc91"
      },
      "execution_count": 44,
      "outputs": [
        {
          "output_type": "display_data",
          "data": {
            "text/plain": [
              "<Figure size 1600x600 with 3 Axes>"
            ],
            "image/png": "[encoded data removed]"
          },
          "metadata": {}
        }
      ]
    },
    {
      "cell_type": "markdown",
      "source": [
        "Con esta prueba de validación de los datos se observa que la incidendencia en la correlación manteniendo o excluyendo los registros en practicamente nula en muchas de las variables y baja en otras, con lo que podriamos decidir eliminar estos registros inconsistentes. Sin embargo haremos un último test para no desestimar aquellos registros que segun el tipo de propiedad mantengan un equilibrio adecuado con el resto de variables. Vamos a estudiar los tipos de propiedad de estudio y apartamento pues entendemos que son las mas proclives a tener una posible distribución sin habitaciones"
      ],
      "metadata": {
        "id": "9cUwdCFJ5C1V"
      }
    },
    {
      "cell_type": "code",
      "source": [
        "pd.set_option(\"display.max_rows\", None)\n",
        "filtered_df_clean = df_clean[(df_clean['rooms'] <= 0) & (df['real_state'].isin(['study', 'apartment']))]\n",
        "# Sort the filtered DataFrame by 'real_state'\n",
        "sorted_df_clean = filtered_df_clean.sort_values(by=['real_state'])\n",
        "# Select only the desired columns and print the results\n",
        "result_df_clean = sorted_df_clean[['neighborhood', 'real_state', 'price', 'square_meters', 'rooms', 'bathroom']]\n",
        "display(result_df_clean)\n",
        "pd.reset_option(\"display.max_rows\")"
      ],
      "metadata": {
        "id": "Uj7_ZZJiyL2K",
        "colab": {
          "base_uri": "https://localhost:8080/",
          "height": 2374
        },
        "outputId": "5822b399-3cb2-42d1-bc19-ac56126e9904"
      },
      "execution_count": 45,
      "outputs": [
        {
          "output_type": "stream",
          "name": "stderr",
          "text": [
            "<ipython-input-45-be943f473545>:2: UserWarning: Boolean Series key will be reindexed to match DataFrame index.\n",
            "  filtered_df_clean = df_clean[(df_clean['rooms'] <= 0) & (df['real_state'].isin(['study', 'apartment']))]\n"
          ]
        },
        {
          "output_type": "display_data",
          "data": {
            "text/plain": [
              "             neighborhood real_state  price  square_meters  rooms  bathroom\n",
              "138          Ciutat Vella  apartment    650             28      0         1\n",
              "7464             Eixample  apartment    765             33      0         1\n",
              "6761             Eixample  apartment    785             30      0         1\n",
              "6583            Les Corts  apartment    725             29      0         1\n",
              "6462             Eixample  apartment    650             25      0         1\n",
              "5166               Gràcia  apartment    750             35      0         1\n",
              "5128               Gràcia  apartment    700             35      0         1\n",
              "5025         Ciutat Vella  apartment    700             41      0         1\n",
              "4887  Sarria-Sant Gervasi  apartment    750             40      0         1\n",
              "4716  Sarria-Sant Gervasi  apartment   3390            300      0         3\n",
              "4379             Eixample  apartment    590             38      0         1\n",
              "4219         Ciutat Vella  apartment   6000            290      0         1\n",
              "3515             Eixample  apartment    550             30      0         1\n",
              "3134         Ciutat Vella  apartment    700             29      0         1\n",
              "2946         Ciutat Vella  apartment    525             27      0         1\n",
              "2678            Les Corts  apartment    940             56      0         1\n",
              "8170         Ciutat Vella  apartment   1050             35      0         1\n",
              "1313             Eixample  apartment    725             40      0         1\n",
              "1326         Ciutat Vella  apartment    700             38      0         1\n",
              "1245         Ciutat Vella  apartment    850             54      0         1\n",
              "903              Eixample  apartment   3500            260      0         3\n",
              "1269             Eixample  apartment    725             40      0         1\n",
              "7182  Sarria-Sant Gervasi      study    545             17      0         1\n",
              "686          Ciutat Vella      study    790             36      0         1\n",
              "5536            Les Corts      study    550             39      0         1\n",
              "5537         Ciutat Vella      study    625             40      0         1\n",
              "5538            Les Corts      study    550             39      0         1\n",
              "5639               Gràcia      study    423             20      0         1\n",
              "5669         Ciutat Vella      study    625             30      0         1\n",
              "5770         Ciutat Vella      study    450             15      0         1\n",
              "6041      Horta- Guinardo      study    484             19      0         1\n",
              "6234             Eixample      study    600             25      0         1\n",
              "7272             Eixample      study    700             35      0         1\n",
              "6428               Gràcia      study    990             85      0         1\n",
              "6471       Sants-Montjuïc      study    490             28      0         1\n",
              "5382               Gràcia      study    545             19      0         1\n",
              "973                Gràcia      study    695             50      0         1\n",
              "6656               Gràcia      study    425             20      0         1\n",
              "6687  Sarria-Sant Gervasi      study    700             38      0         1\n",
              "7303         Ciutat Vella      study    550             24      0         1\n",
              "6888       Sants-Montjuïc      study    575             34      0         1\n",
              "6895         Ciutat Vella      study    550             24      0         1\n",
              "7054               Gràcia      study   1034             47      0         1\n",
              "7448  Sarria-Sant Gervasi      study   1210             81      0         1\n",
              "6498  Sarria-Sant Gervasi      study    825             33      0         1\n",
              "2771  Sarria-Sant Gervasi      study    750             35      0         1\n",
              "5124  Sarria-Sant Gervasi      study    745             25      0         1\n",
              "2776       Sants-Montjuïc      study    650             47      0         1\n",
              "2791           Sant Martí      study    640             34      0         1\n",
              "2188             Eixample      study   1600             60      0         1\n",
              "3107          Sant Andreu      study    480             30      0         1\n",
              "2129             Eixample      study    900             45      0         1\n",
              "3211               Gràcia      study    800             45      0         1\n",
              "2070      Horta- Guinardo      study    550             30      0         1\n",
              "3517               Gràcia      study    550             26      0         1\n",
              "3604         Ciutat Vella      study   2500            170      0         2\n",
              "3633         Ciutat Vella      study    650             33      0         1\n",
              "3735      Horta- Guinardo      study    580             20      0         1\n",
              "2381  Sarria-Sant Gervasi      study    700             39      0         1\n",
              "3781         Ciutat Vella      study    590             37      0         1\n",
              "4044         Ciutat Vella      study    530             25      0         1\n",
              "4052          Sant Andreu      study    666             40      0         1\n",
              "4067         Ciutat Vella      study    750             24      0         2\n",
              "1998       Sants-Montjuïc      study    470             23      0         1\n",
              "1994         Ciutat Vella      study    750             28      0         1\n",
              "7477  Sarria-Sant Gervasi      study    550             25      0         1\n",
              "4513  Sarria-Sant Gervasi      study    830             45      0         1\n",
              "4522           Sant Martí      study    750             32      0         1\n",
              "1849         Ciutat Vella      study    790             52      0         1\n",
              "4743       Sants-Montjuïc      study    565             22      0         1\n",
              "1339      Horta- Guinardo      study    590             35      0         1\n",
              "3797             Eixample      study    850             35      0         1\n",
              "4501           Sant Martí      study    652             30      0         1"
            ],
            "text/html": [
              "\n",
              "  <div id=\"df-09d50d7c-0bac-4307-88e8-d4f16eee9aa9\" class=\"colab-df-container\">\n",
              "    <div>\n",
              "<style scoped>\n",
              "    .dataframe tbody tr th:only-of-type {\n",
              "        vertical-align: middle;\n",
              "    }\n",
              "\n",
              "    .dataframe tbody tr th {\n",
              "        vertical-align: top;\n",
              "    }\n",
              "\n",
              "    .dataframe thead th {\n",
              "        text-align: right;\n",
              "    }\n",
              "</style>\n",
              "<table border=\"1\" class=\"dataframe\">\n",
              "  <thead>\n",
              "    <tr style=\"text-align: right;\">\n",
              "      <th></th>\n",
              "      <th>neighborhood</th>\n",
              "      <th>real_state</th>\n",
              "      <th>price</th>\n",
              "      <th>square_meters</th>\n",
              "      <th>rooms</th>\n",
              "      <th>bathroom</th>\n",
              "    </tr>\n",
              "  </thead>\n",
              "  <tbody>\n",
              "    <tr>\n",
              "      <th>138</th>\n",
              "      <td>Ciutat Vella</td>\n",
              "      <td>apartment</td>\n",
              "      <td>650</td>\n",
              "      <td>28</td>\n",
              "      <td>0</td>\n",
              "      <td>1</td>\n",
              "    </tr>\n",
              "    <tr>\n",
              "      <th>7464</th>\n",
              "      <td>Eixample</td>\n",
              "      <td>apartment</td>\n",
              "      <td>765</td>\n",
              "      <td>33</td>\n",
              "      <td>0</td>\n",
              "      <td>1</td>\n",
              "    </tr>\n",
              "    <tr>\n",
              "      <th>6761</th>\n",
              "      <td>Eixample</td>\n",
              "      <td>apartment</td>\n",
              "      <td>785</td>\n",
              "      <td>30</td>\n",
              "      <td>0</td>\n",
              "      <td>1</td>\n",
              "    </tr>\n",
              "    <tr>\n",
              "      <th>6583</th>\n",
              "      <td>Les Corts</td>\n",
              "      <td>apartment</td>\n",
              "      <td>725</td>\n",
              "      <td>29</td>\n",
              "      <td>0</td>\n",
              "      <td>1</td>\n",
              "    </tr>\n",
              "    <tr>\n",
              "      <th>6462</th>\n",
              "      <td>Eixample</td>\n",
              "      <td>apartment</td>\n",
              "      <td>650</td>\n",
              "      <td>25</td>\n",
              "      <td>0</td>\n",
              "      <td>1</td>\n",
              "    </tr>\n",
              "    <tr>\n",
              "      <th>5166</th>\n",
              "      <td>Gràcia</td>\n",
              "      <td>apartment</td>\n",
              "      <td>750</td>\n",
              "      <td>35</td>\n",
              "      <td>0</td>\n",
              "      <td>1</td>\n",
              "    </tr>\n",
              "    <tr>\n",
              "      <th>5128</th>\n",
              "      <td>Gràcia</td>\n",
              "      <td>apartment</td>\n",
              "      <td>700</td>\n",
              "      <td>35</td>\n",
              "      <td>0</td>\n",
              "      <td>1</td>\n",
              "    </tr>\n",
              "    <tr>\n",
              "      <th>5025</th>\n",
              "      <td>Ciutat Vella</td>\n",
              "      <td>apartment</td>\n",
              "      <td>700</td>\n",
              "      <td>41</td>\n",
              "      <td>0</td>\n",
              "      <td>1</td>\n",
              "    </tr>\n",
              "    <tr>\n",
              "      <th>4887</th>\n",
              "      <td>Sarria-Sant Gervasi</td>\n",
              "      <td>apartment</td>\n",
              "      <td>750</td>\n",
              "      <td>40</td>\n",
              "      <td>0</td>\n",
              "      <td>1</td>\n",
              "    </tr>\n",
              "    <tr>\n",
              "      <th>4716</th>\n",
              "      <td>Sarria-Sant Gervasi</td>\n",
              "      <td>apartment</td>\n",
              "      <td>3390</td>\n",
              "      <td>300</td>\n",
              "      <td>0</td>\n",
              "      <td>3</td>\n",
              "    </tr>\n",
              "    <tr>\n",
              "      <th>4379</th>\n",
              "      <td>Eixample</td>\n",
              "      <td>apartment</td>\n",
              "      <td>590</td>\n",
              "      <td>38</td>\n",
              "      <td>0</td>\n",
              "      <td>1</td>\n",
              "    </tr>\n",
              "    <tr>\n",
              "      <th>4219</th>\n",
              "      <td>Ciutat Vella</td>\n",
              "      <td>apartment</td>\n",
              "      <td>6000</td>\n",
              "      <td>290</td>\n",
              "      <td>0</td>\n",
              "      <td>1</td>\n",
              "    </tr>\n",
              "    <tr>\n",
              "      <th>3515</th>\n",
              "      <td>Eixample</td>\n",
              "      <td>apartment</td>\n",
              "      <td>550</td>\n",
              "      <td>30</td>\n",
              "      <td>0</td>\n",
              "      <td>1</td>\n",
              "    </tr>\n",
              "    <tr>\n",
              "      <th>3134</th>\n",
              "      <td>Ciutat Vella</td>\n",
              "      <td>apartment</td>\n",
              "      <td>700</td>\n",
              "      <td>29</td>\n",
              "      <td>0</td>\n",
              "      <td>1</td>\n",
              "    </tr>\n",
              "    <tr>\n",
              "      <th>2946</th>\n",
              "      <td>Ciutat Vella</td>\n",
              "      <td>apartment</td>\n",
              "      <td>525</td>\n",
              "      <td>27</td>\n",
              "      <td>0</td>\n",
              "      <td>1</td>\n",
              "    </tr>\n",
              "    <tr>\n",
              "      <th>2678</th>\n",
              "      <td>Les Corts</td>\n",
              "      <td>apartment</td>\n",
              "      <td>940</td>\n",
              "      <td>56</td>\n",
              "      <td>0</td>\n",
              "      <td>1</td>\n",
              "    </tr>\n",
              "    <tr>\n",
              "      <th>8170</th>\n",
              "      <td>Ciutat Vella</td>\n",
              "      <td>apartment</td>\n",
              "      <td>1050</td>\n",
              "      <td>35</td>\n",
              "      <td>0</td>\n",
              "      <td>1</td>\n",
              "    </tr>\n",
              "    <tr>\n",
              "      <th>1313</th>\n",
              "      <td>Eixample</td>\n",
              "      <td>apartment</td>\n",
              "      <td>725</td>\n",
              "      <td>40</td>\n",
              "      <td>0</td>\n",
              "      <td>1</td>\n",
              "    </tr>\n",
              "    <tr>\n",
              "      <th>1326</th>\n",
              "      <td>Ciutat Vella</td>\n",
              "      <td>apartment</td>\n",
              "      <td>700</td>\n",
              "      <td>38</td>\n",
              "      <td>0</td>\n",
              "      <td>1</td>\n",
              "    </tr>\n",
              "    <tr>\n",
              "      <th>1245</th>\n",
              "      <td>Ciutat Vella</td>\n",
              "      <td>apartment</td>\n",
              "      <td>850</td>\n",
              "      <td>54</td>\n",
              "      <td>0</td>\n",
              "      <td>1</td>\n",
              "    </tr>\n",
              "    <tr>\n",
              "      <th>903</th>\n",
              "      <td>Eixample</td>\n",
              "      <td>apartment</td>\n",
              "      <td>3500</td>\n",
              "      <td>260</td>\n",
              "      <td>0</td>\n",
              "      <td>3</td>\n",
              "    </tr>\n",
              "    <tr>\n",
              "      <th>1269</th>\n",
              "      <td>Eixample</td>\n",
              "      <td>apartment</td>\n",
              "      <td>725</td>\n",
              "      <td>40</td>\n",
              "      <td>0</td>\n",
              "      <td>1</td>\n",
              "    </tr>\n",
              "    <tr>\n",
              "      <th>7182</th>\n",
              "      <td>Sarria-Sant Gervasi</td>\n",
              "      <td>study</td>\n",
              "      <td>545</td>\n",
              "      <td>17</td>\n",
              "      <td>0</td>\n",
              "      <td>1</td>\n",
              "    </tr>\n",
              "    <tr>\n",
              "      <th>686</th>\n",
              "      <td>Ciutat Vella</td>\n",
              "      <td>study</td>\n",
              "      <td>790</td>\n",
              "      <td>36</td>\n",
              "      <td>0</td>\n",
              "      <td>1</td>\n",
              "    </tr>\n",
              "    <tr>\n",
              "      <th>5536</th>\n",
              "      <td>Les Corts</td>\n",
              "      <td>study</td>\n",
              "      <td>550</td>\n",
              "      <td>39</td>\n",
              "      <td>0</td>\n",
              "      <td>1</td>\n",
              "    </tr>\n",
              "    <tr>\n",
              "      <th>5537</th>\n",
              "      <td>Ciutat Vella</td>\n",
              "      <td>study</td>\n",
              "      <td>625</td>\n",
              "      <td>40</td>\n",
              "      <td>0</td>\n",
              "      <td>1</td>\n",
              "    </tr>\n",
              "    <tr>\n",
              "      <th>5538</th>\n",
              "      <td>Les Corts</td>\n",
              "      <td>study</td>\n",
              "      <td>550</td>\n",
              "      <td>39</td>\n",
              "      <td>0</td>\n",
              "      <td>1</td>\n",
              "    </tr>\n",
              "    <tr>\n",
              "      <th>5639</th>\n",
              "      <td>Gràcia</td>\n",
              "      <td>study</td>\n",
              "      <td>423</td>\n",
              "      <td>20</td>\n",
              "      <td>0</td>\n",
              "      <td>1</td>\n",
              "    </tr>\n",
              "    <tr>\n",
              "      <th>5669</th>\n",
              "      <td>Ciutat Vella</td>\n",
              "      <td>study</td>\n",
              "      <td>625</td>\n",
              "      <td>30</td>\n",
              "      <td>0</td>\n",
              "      <td>1</td>\n",
              "    </tr>\n",
              "    <tr>\n",
              "      <th>5770</th>\n",
              "      <td>Ciutat Vella</td>\n",
              "      <td>study</td>\n",
              "      <td>450</td>\n",
              "      <td>15</td>\n",
              "      <td>0</td>\n",
              "      <td>1</td>\n",
              "    </tr>\n",
              "    <tr>\n",
              "      <th>6041</th>\n",
              "      <td>Horta- Guinardo</td>\n",
              "      <td>study</td>\n",
              "      <td>484</td>\n",
              "      <td>19</td>\n",
              "      <td>0</td>\n",
              "      <td>1</td>\n",
              "    </tr>\n",
              "    <tr>\n",
              "      <th>6234</th>\n",
              "      <td>Eixample</td>\n",
              "      <td>study</td>\n",
              "      <td>600</td>\n",
              "      <td>25</td>\n",
              "      <td>0</td>\n",
              "      <td>1</td>\n",
              "    </tr>\n",
              "    <tr>\n",
              "      <th>7272</th>\n",
              "      <td>Eixample</td>\n",
              "      <td>study</td>\n",
              "      <td>700</td>\n",
              "      <td>35</td>\n",
              "      <td>0</td>\n",
              "      <td>1</td>\n",
              "    </tr>\n",
              "    <tr>\n",
              "      <th>6428</th>\n",
              "      <td>Gràcia</td>\n",
              "      <td>study</td>\n",
              "      <td>990</td>\n",
              "      <td>85</td>\n",
              "      <td>0</td>\n",
              "      <td>1</td>\n",
              "    </tr>\n",
              "    <tr>\n",
              "      <th>6471</th>\n",
              "      <td>Sants-Montjuïc</td>\n",
              "      <td>study</td>\n",
              "      <td>490</td>\n",
              "      <td>28</td>\n",
              "      <td>0</td>\n",
              "      <td>1</td>\n",
              "    </tr>\n",
              "    <tr>\n",
              "      <th>5382</th>\n",
              "      <td>Gràcia</td>\n",
              "      <td>study</td>\n",
              "      <td>545</td>\n",
              "      <td>19</td>\n",
              "      <td>0</td>\n",
              "      <td>1</td>\n",
              "    </tr>\n",
              "    <tr>\n",
              "      <th>973</th>\n",
              "      <td>Gràcia</td>\n",
              "      <td>study</td>\n",
              "      <td>695</td>\n",
              "      <td>50</td>\n",
              "      <td>0</td>\n",
              "      <td>1</td>\n",
              "    </tr>\n",
              "    <tr>\n",
              "      <th>6656</th>\n",
              "      <td>Gràcia</td>\n",
              "      <td>study</td>\n",
              "      <td>425</td>\n",
              "      <td>20</td>\n",
              "      <td>0</td>\n",
              "      <td>1</td>\n",
              "    </tr>\n",
              "    <tr>\n",
              "      <th>6687</th>\n",
              "      <td>Sarria-Sant Gervasi</td>\n",
              "      <td>study</td>\n",
              "      <td>700</td>\n",
              "      <td>38</td>\n",
              "      <td>0</td>\n",
              "      <td>1</td>\n",
              "    </tr>\n",
              "    <tr>\n",
              "      <th>7303</th>\n",
              "      <td>Ciutat Vella</td>\n",
              "      <td>study</td>\n",
              "      <td>550</td>\n",
              "      <td>24</td>\n",
              "      <td>0</td>\n",
              "      <td>1</td>\n",
              "    </tr>\n",
              "    <tr>\n",
              "      <th>6888</th>\n",
              "      <td>Sants-Montjuïc</td>\n",
              "      <td>study</td>\n",
              "      <td>575</td>\n",
              "      <td>34</td>\n",
              "      <td>0</td>\n",
              "      <td>1</td>\n",
              "    </tr>\n",
              "    <tr>\n",
              "      <th>6895</th>\n",
              "      <td>Ciutat Vella</td>\n",
              "      <td>study</td>\n",
              "      <td>550</td>\n",
              "      <td>24</td>\n",
              "      <td>0</td>\n",
              "      <td>1</td>\n",
              "    </tr>\n",
              "    <tr>\n",
              "      <th>7054</th>\n",
              "      <td>Gràcia</td>\n",
              "      <td>study</td>\n",
              "      <td>1034</td>\n",
              "      <td>47</td>\n",
              "      <td>0</td>\n",
              "      <td>1</td>\n",
              "    </tr>\n",
              "    <tr>\n",
              "      <th>7448</th>\n",
              "      <td>Sarria-Sant Gervasi</td>\n",
              "      <td>study</td>\n",
              "      <td>1210</td>\n",
              "      <td>81</td>\n",
              "      <td>0</td>\n",
              "      <td>1</td>\n",
              "    </tr>\n",
              "    <tr>\n",
              "      <th>6498</th>\n",
              "      <td>Sarria-Sant Gervasi</td>\n",
              "      <td>study</td>\n",
              "      <td>825</td>\n",
              "      <td>33</td>\n",
              "      <td>0</td>\n",
              "      <td>1</td>\n",
              "    </tr>\n",
              "    <tr>\n",
              "      <th>2771</th>\n",
              "      <td>Sarria-Sant Gervasi</td>\n",
              "      <td>study</td>\n",
              "      <td>750</td>\n",
              "      <td>35</td>\n",
              "      <td>0</td>\n",
              "      <td>1</td>\n",
              "    </tr>\n",
              "    <tr>\n",
              "      <th>5124</th>\n",
              "      <td>Sarria-Sant Gervasi</td>\n",
              "      <td>study</td>\n",
              "      <td>745</td>\n",
              "      <td>25</td>\n",
              "      <td>0</td>\n",
              "      <td>1</td>\n",
              "    </tr>\n",
              "    <tr>\n",
              "      <th>2776</th>\n",
              "      <td>Sants-Montjuïc</td>\n",
              "      <td>study</td>\n",
              "      <td>650</td>\n",
              "      <td>47</td>\n",
              "      <td>0</td>\n",
              "      <td>1</td>\n",
              "    </tr>\n",
              "    <tr>\n",
              "      <th>2791</th>\n",
              "      <td>Sant Martí</td>\n",
              "      <td>study</td>\n",
              "      <td>640</td>\n",
              "      <td>34</td>\n",
              "      <td>0</td>\n",
              "      <td>1</td>\n",
              "    </tr>\n",
              "    <tr>\n",
              "      <th>2188</th>\n",
              "      <td>Eixample</td>\n",
              "      <td>study</td>\n",
              "      <td>1600</td>\n",
              "      <td>60</td>\n",
              "      <td>0</td>\n",
              "      <td>1</td>\n",
              "    </tr>\n",
              "    <tr>\n",
              "      <th>3107</th>\n",
              "      <td>Sant Andreu</td>\n",
              "      <td>study</td>\n",
              "      <td>480</td>\n",
              "      <td>30</td>\n",
              "      <td>0</td>\n",
              "      <td>1</td>\n",
              "    </tr>\n",
              "    <tr>\n",
              "      <th>2129</th>\n",
              "      <td>Eixample</td>\n",
              "      <td>study</td>\n",
              "      <td>900</td>\n",
              "      <td>45</td>\n",
              "      <td>0</td>\n",
              "      <td>1</td>\n",
              "    </tr>\n",
              "    <tr>\n",
              "      <th>3211</th>\n",
              "      <td>Gràcia</td>\n",
              "      <td>study</td>\n",
              "      <td>800</td>\n",
              "      <td>45</td>\n",
              "      <td>0</td>\n",
              "      <td>1</td>\n",
              "    </tr>\n",
              "    <tr>\n",
              "      <th>2070</th>\n",
              "      <td>Horta- Guinardo</td>\n",
              "      <td>study</td>\n",
              "      <td>550</td>\n",
              "      <td>30</td>\n",
              "      <td>0</td>\n",
              "      <td>1</td>\n",
              "    </tr>\n",
              "    <tr>\n",
              "      <th>3517</th>\n",
              "      <td>Gràcia</td>\n",
              "      <td>study</td>\n",
              "      <td>550</td>\n",
              "      <td>26</td>\n",
              "      <td>0</td>\n",
              "      <td>1</td>\n",
              "    </tr>\n",
              "    <tr>\n",
              "      <th>3604</th>\n",
              "      <td>Ciutat Vella</td>\n",
              "      <td>study</td>\n",
              "      <td>2500</td>\n",
              "      <td>170</td>\n",
              "      <td>0</td>\n",
              "      <td>2</td>\n",
              "    </tr>\n",
              "    <tr>\n",
              "      <th>3633</th>\n",
              "      <td>Ciutat Vella</td>\n",
              "      <td>study</td>\n",
              "      <td>650</td>\n",
              "      <td>33</td>\n",
              "      <td>0</td>\n",
              "      <td>1</td>\n",
              "    </tr>\n",
              "    <tr>\n",
              "      <th>3735</th>\n",
              "      <td>Horta- Guinardo</td>\n",
              "      <td>study</td>\n",
              "      <td>580</td>\n",
              "      <td>20</td>\n",
              "      <td>0</td>\n",
              "      <td>1</td>\n",
              "    </tr>\n",
              "    <tr>\n",
              "      <th>2381</th>\n",
              "      <td>Sarria-Sant Gervasi</td>\n",
              "      <td>study</td>\n",
              "      <td>700</td>\n",
              "      <td>39</td>\n",
              "      <td>0</td>\n",
              "      <td>1</td>\n",
              "    </tr>\n",
              "    <tr>\n",
              "      <th>3781</th>\n",
              "      <td>Ciutat Vella</td>\n",
              "      <td>study</td>\n",
              "      <td>590</td>\n",
              "      <td>37</td>\n",
              "      <td>0</td>\n",
              "      <td>1</td>\n",
              "    </tr>\n",
              "    <tr>\n",
              "      <th>4044</th>\n",
              "      <td>Ciutat Vella</td>\n",
              "      <td>study</td>\n",
              "      <td>530</td>\n",
              "      <td>25</td>\n",
              "      <td>0</td>\n",
              "      <td>1</td>\n",
              "    </tr>\n",
              "    <tr>\n",
              "      <th>4052</th>\n",
              "      <td>Sant Andreu</td>\n",
              "      <td>study</td>\n",
              "      <td>666</td>\n",
              "      <td>40</td>\n",
              "      <td>0</td>\n",
              "      <td>1</td>\n",
              "    </tr>\n",
              "    <tr>\n",
              "      <th>4067</th>\n",
              "      <td>Ciutat Vella</td>\n",
              "      <td>study</td>\n",
              "      <td>750</td>\n",
              "      <td>24</td>\n",
              "      <td>0</td>\n",
              "      <td>2</td>\n",
              "    </tr>\n",
              "    <tr>\n",
              "      <th>1998</th>\n",
              "      <td>Sants-Montjuïc</td>\n",
              "      <td>study</td>\n",
              "      <td>470</td>\n",
              "      <td>23</td>\n",
              "      <td>0</td>\n",
              "      <td>1</td>\n",
              "    </tr>\n",
              "    <tr>\n",
              "      <th>1994</th>\n",
              "      <td>Ciutat Vella</td>\n",
              "      <td>study</td>\n",
              "      <td>750</td>\n",
              "      <td>28</td>\n",
              "      <td>0</td>\n",
              "      <td>1</td>\n",
              "    </tr>\n",
              "    <tr>\n",
              "      <th>7477</th>\n",
              "      <td>Sarria-Sant Gervasi</td>\n",
              "      <td>study</td>\n",
              "      <td>550</td>\n",
              "      <td>25</td>\n",
              "      <td>0</td>\n",
              "      <td>1</td>\n",
              "    </tr>\n",
              "    <tr>\n",
              "      <th>4513</th>\n",
              "      <td>Sarria-Sant Gervasi</td>\n",
              "      <td>study</td>\n",
              "      <td>830</td>\n",
              "      <td>45</td>\n",
              "      <td>0</td>\n",
              "      <td>1</td>\n",
              "    </tr>\n",
              "    <tr>\n",
              "      <th>4522</th>\n",
              "      <td>Sant Martí</td>\n",
              "      <td>study</td>\n",
              "      <td>750</td>\n",
              "      <td>32</td>\n",
              "      <td>0</td>\n",
              "      <td>1</td>\n",
              "    </tr>\n",
              "    <tr>\n",
              "      <th>1849</th>\n",
              "      <td>Ciutat Vella</td>\n",
              "      <td>study</td>\n",
              "      <td>790</td>\n",
              "      <td>52</td>\n",
              "      <td>0</td>\n",
              "      <td>1</td>\n",
              "    </tr>\n",
              "    <tr>\n",
              "      <th>4743</th>\n",
              "      <td>Sants-Montjuïc</td>\n",
              "      <td>study</td>\n",
              "      <td>565</td>\n",
              "      <td>22</td>\n",
              "      <td>0</td>\n",
              "      <td>1</td>\n",
              "    </tr>\n",
              "    <tr>\n",
              "      <th>1339</th>\n",
              "      <td>Horta- Guinardo</td>\n",
              "      <td>study</td>\n",
              "      <td>590</td>\n",
              "      <td>35</td>\n",
              "      <td>0</td>\n",
              "      <td>1</td>\n",
              "    </tr>\n",
              "    <tr>\n",
              "      <th>3797</th>\n",
              "      <td>Eixample</td>\n",
              "      <td>study</td>\n",
              "      <td>850</td>\n",
              "      <td>35</td>\n",
              "      <td>0</td>\n",
              "      <td>1</td>\n",
              "    </tr>\n",
              "    <tr>\n",
              "      <th>4501</th>\n",
              "      <td>Sant Martí</td>\n",
              "      <td>study</td>\n",
              "      <td>652</td>\n",
              "      <td>30</td>\n",
              "      <td>0</td>\n",
              "      <td>1</td>\n",
              "    </tr>\n",
              "  </tbody>\n",
              "</table>\n",
              "</div>\n",
              "    <div class=\"colab-df-buttons\">\n",
              "\n",
              "  <div class=\"colab-df-container\">\n",
              "    <button class=\"colab-df-convert\" onclick=\"convertToInteractive('df-09d50d7c-0bac-4307-88e8-d4f16eee9aa9')\"\n",
              "            title=\"Convert this dataframe to an interactive table.\"\n",
              "            style=\"display:none;\">\n",
              "\n",
              "  <svg xmlns=\"http://www.w3.org/2000/svg\" height=\"24px\" viewBox=\"0 -960 960 960\">\n",
              "    <path d=\"M120-120v-720h720v720H120Zm60-500h600v-160H180v160Zm220 220h160v-160H400v160Zm0 220h160v-160H400v160ZM180-400h160v-160H180v160Zm440 0h160v-160H620v160ZM180-180h160v-160H180v160Zm440 0h160v-160H620v160Z\"/>\n",
              "  </svg>\n",
              "    </button>\n",
              "\n",
              "  <style>\n",
              "    .colab-df-container {\n",
              "      display:flex;\n",
              "      gap: 12px;\n",
              "    }\n",
              "\n",
              "    .colab-df-convert {\n",
              "      background-color: #E8F0FE;\n",
              "      border: none;\n",
              "      border-radius: 50%;\n",
              "      cursor: pointer;\n",
              "      display: none;\n",
              "      fill: #1967D2;\n",
              "      height: 32px;\n",
              "      padding: 0 0 0 0;\n",
              "      width: 32px;\n",
              "    }\n",
              "\n",
              "    .colab-df-convert:hover {\n",
              "      background-color: #E2EBFA;\n",
              "      box-shadow: 0px 1px 2px rgba(60, 64, 67, 0.3), 0px 1px 3px 1px rgba(60, 64, 67, 0.15);\n",
              "      fill: #174EA6;\n",
              "    }\n",
              "\n",
              "    .colab-df-buttons div {\n",
              "      margin-bottom: 4px;\n",
              "    }\n",
              "\n",
              "    [theme=dark] .colab-df-convert {\n",
              "      background-color: #3B4455;\n",
              "      fill: #D2E3FC;\n",
              "    }\n",
              "\n",
              "    [theme=dark] .colab-df-convert:hover {\n",
              "      background-color: #434B5C;\n",
              "      box-shadow: 0px 1px 3px 1px rgba(0, 0, 0, 0.15);\n",
              "      filter: drop-shadow(0px 1px 2px rgba(0, 0, 0, 0.3));\n",
              "      fill: #FFFFFF;\n",
              "    }\n",
              "  </style>\n",
              "\n",
              "    <script>\n",
              "      const buttonEl =\n",
              "        document.querySelector('#df-09d50d7c-0bac-4307-88e8-d4f16eee9aa9 button.colab-df-convert');\n",
              "      buttonEl.style.display =\n",
              "        google.colab.kernel.accessAllowed ? 'block' : 'none';\n",
              "\n",
              "      async function convertToInteractive(key) {\n",
              "        const element = document.querySelector('#df-09d50d7c-0bac-4307-88e8-d4f16eee9aa9');\n",
              "        const dataTable =\n",
              "          await google.colab.kernel.invokeFunction('convertToInteractive',\n",
              "                                                    [key], {});\n",
              "        if (!dataTable) return;\n",
              "\n",
              "        const docLinkHtml = 'Like what you see? Visit the ' +\n",
              "          '<a target=\"_blank\" href=https://colab.research.google.com/notebooks/data_table.ipynb>data table notebook</a>'\n",
              "          + ' to learn more about interactive tables.';\n",
              "        element.innerHTML = '';\n",
              "        dataTable['output_type'] = 'display_data';\n",
              "        await google.colab.output.renderOutput(dataTable, element);\n",
              "        const docLink = document.createElement('div');\n",
              "        docLink.innerHTML = docLinkHtml;\n",
              "        element.appendChild(docLink);\n",
              "      }\n",
              "    </script>\n",
              "  </div>\n",
              "\n",
              "\n",
              "<div id=\"df-11b80981-ef51-488b-a1e9-11003b1f5ed3\">\n",
              "  <button class=\"colab-df-quickchart\" onclick=\"quickchart('df-11b80981-ef51-488b-a1e9-11003b1f5ed3')\"\n",
              "            title=\"Suggest charts\"\n",
              "            style=\"display:none;\">\n",
              "\n",
              "<svg xmlns=\"http://www.w3.org/2000/svg\" height=\"24px\"viewBox=\"0 0 24 24\"\n",
              "     width=\"24px\">\n",
              "    <g>\n",
              "        <path d=\"M19 3H5c-1.1 0-2 .9-2 2v14c0 1.1.9 2 2 2h14c1.1 0 2-.9 2-2V5c0-1.1-.9-2-2-2zM9 17H7v-7h2v7zm4 0h-2V7h2v10zm4 0h-2v-4h2v4z\"/>\n",
              "    </g>\n",
              "</svg>\n",
              "  </button>\n",
              "\n",
              "<style>\n",
              "  .colab-df-quickchart {\n",
              "      --bg-color: #E8F0FE;\n",
              "      --fill-color: #1967D2;\n",
              "      --hover-bg-color: #E2EBFA;\n",
              "      --hover-fill-color: #174EA6;\n",
              "      --disabled-fill-color: #AAA;\n",
              "      --disabled-bg-color: #DDD;\n",
              "  }\n",
              "\n",
              "  [theme=dark] .colab-df-quickchart {\n",
              "      --bg-color: #3B4455;\n",
              "      --fill-color: #D2E3FC;\n",
              "      --hover-bg-color: #434B5C;\n",
              "      --hover-fill-color: #FFFFFF;\n",
              "      --disabled-bg-color: #3B4455;\n",
              "      --disabled-fill-color: #666;\n",
              "  }\n",
              "\n",
              "  .colab-df-quickchart {\n",
              "    background-color: var(--bg-color);\n",
              "    border: none;\n",
              "    border-radius: 50%;\n",
              "    cursor: pointer;\n",
              "    display: none;\n",
              "    fill: var(--fill-color);\n",
              "    height: 32px;\n",
              "    padding: 0;\n",
              "    width: 32px;\n",
              "  }\n",
              "\n",
              "  .colab-df-quickchart:hover {\n",
              "    background-color: var(--hover-bg-color);\n",
              "    box-shadow: 0 1px 2px rgba(60, 64, 67, 0.3), 0 1px 3px 1px rgba(60, 64, 67, 0.15);\n",
              "    fill: var(--button-hover-fill-color);\n",
              "  }\n",
              "\n",
              "  .colab-df-quickchart-complete:disabled,\n",
              "  .colab-df-quickchart-complete:disabled:hover {\n",
              "    background-color: var(--disabled-bg-color);\n",
              "    fill: var(--disabled-fill-color);\n",
              "    box-shadow: none;\n",
              "  }\n",
              "\n",
              "  .colab-df-spinner {\n",
              "    border: 2px solid var(--fill-color);\n",
              "    border-color: transparent;\n",
              "    border-bottom-color: var(--fill-color);\n",
              "    animation:\n",
              "      spin 1s steps(1) infinite;\n",
              "  }\n",
              "\n",
              "  @keyframes spin {\n",
              "    0% {\n",
              "      border-color: transparent;\n",
              "      border-bottom-color: var(--fill-color);\n",
              "      border-left-color: var(--fill-color);\n",
              "    }\n",
              "    20% {\n",
              "      border-color: transparent;\n",
              "      border-left-color: var(--fill-color);\n",
              "      border-top-color: var(--fill-color);\n",
              "    }\n",
              "    30% {\n",
              "      border-color: transparent;\n",
              "      border-left-color: var(--fill-color);\n",
              "      border-top-color: var(--fill-color);\n",
              "      border-right-color: var(--fill-color);\n",
              "    }\n",
              "    40% {\n",
              "      border-color: transparent;\n",
              "      border-right-color: var(--fill-color);\n",
              "      border-top-color: var(--fill-color);\n",
              "    }\n",
              "    60% {\n",
              "      border-color: transparent;\n",
              "      border-right-color: var(--fill-color);\n",
              "    }\n",
              "    80% {\n",
              "      border-color: transparent;\n",
              "      border-right-color: var(--fill-color);\n",
              "      border-bottom-color: var(--fill-color);\n",
              "    }\n",
              "    90% {\n",
              "      border-color: transparent;\n",
              "      border-bottom-color: var(--fill-color);\n",
              "    }\n",
              "  }\n",
              "</style>\n",
              "\n",
              "  <script>\n",
              "    async function quickchart(key) {\n",
              "      const quickchartButtonEl =\n",
              "        document.querySelector('#' + key + ' button');\n",
              "      quickchartButtonEl.disabled = true;  // To prevent multiple clicks.\n",
              "      quickchartButtonEl.classList.add('colab-df-spinner');\n",
              "      try {\n",
              "        const charts = await google.colab.kernel.invokeFunction(\n",
              "            'suggestCharts', [key], {});\n",
              "      } catch (error) {\n",
              "        console.error('Error during call to suggestCharts:', error);\n",
              "      }\n",
              "      quickchartButtonEl.classList.remove('colab-df-spinner');\n",
              "      quickchartButtonEl.classList.add('colab-df-quickchart-complete');\n",
              "    }\n",
              "    (() => {\n",
              "      let quickchartButtonEl =\n",
              "        document.querySelector('#df-11b80981-ef51-488b-a1e9-11003b1f5ed3 button');\n",
              "      quickchartButtonEl.style.display =\n",
              "        google.colab.kernel.accessAllowed ? 'block' : 'none';\n",
              "    })();\n",
              "  </script>\n",
              "</div>\n",
              "\n",
              "  <div id=\"id_86ac3fd6-5c33-46ad-89fc-888805577179\">\n",
              "    <style>\n",
              "      .colab-df-generate {\n",
              "        background-color: #E8F0FE;\n",
              "        border: none;\n",
              "        border-radius: 50%;\n",
              "        cursor: pointer;\n",
              "        display: none;\n",
              "        fill: #1967D2;\n",
              "        height: 32px;\n",
              "        padding: 0 0 0 0;\n",
              "        width: 32px;\n",
              "      }\n",
              "\n",
              "      .colab-df-generate:hover {\n",
              "        background-color: #E2EBFA;\n",
              "        box-shadow: 0px 1px 2px rgba(60, 64, 67, 0.3), 0px 1px 3px 1px rgba(60, 64, 67, 0.15);\n",
              "        fill: #174EA6;\n",
              "      }\n",
              "\n",
              "      [theme=dark] .colab-df-generate {\n",
              "        background-color: #3B4455;\n",
              "        fill: #D2E3FC;\n",
              "      }\n",
              "\n",
              "      [theme=dark] .colab-df-generate:hover {\n",
              "        background-color: #434B5C;\n",
              "        box-shadow: 0px 1px 3px 1px rgba(0, 0, 0, 0.15);\n",
              "        filter: drop-shadow(0px 1px 2px rgba(0, 0, 0, 0.3));\n",
              "        fill: #FFFFFF;\n",
              "      }\n",
              "    </style>\n",
              "    <button class=\"colab-df-generate\" onclick=\"generateWithVariable('result_df_clean')\"\n",
              "            title=\"Generate code using this dataframe.\"\n",
              "            style=\"display:none;\">\n",
              "\n",
              "  <svg xmlns=\"http://www.w3.org/2000/svg\" height=\"24px\"viewBox=\"0 0 24 24\"\n",
              "       width=\"24px\">\n",
              "    <path d=\"M7,19H8.4L18.45,9,17,7.55,7,17.6ZM5,21V16.75L18.45,3.32a2,2,0,0,1,2.83,0l1.4,1.43a1.91,1.91,0,0,1,.58,1.4,1.91,1.91,0,0,1-.58,1.4L9.25,21ZM18.45,9,17,7.55Zm-12,3A5.31,5.31,0,0,0,4.9,8.1,5.31,5.31,0,0,0,1,6.5,5.31,5.31,0,0,0,4.9,4.9,5.31,5.31,0,0,0,6.5,1,5.31,5.31,0,0,0,8.1,4.9,5.31,5.31,0,0,0,12,6.5,5.46,5.46,0,0,0,6.5,12Z\"/>\n",
              "  </svg>\n",
              "    </button>\n",
              "    <script>\n",
              "      (() => {\n",
              "      const buttonEl =\n",
              "        document.querySelector('#id_86ac3fd6-5c33-46ad-89fc-888805577179 button.colab-df-generate');\n",
              "      buttonEl.style.display =\n",
              "        google.colab.kernel.accessAllowed ? 'block' : 'none';\n",
              "\n",
              "      buttonEl.onclick = () => {\n",
              "        google.colab.notebook.generateWithVariable('result_df_clean');\n",
              "      }\n",
              "      })();\n",
              "    </script>\n",
              "  </div>\n",
              "\n",
              "    </div>\n",
              "  </div>\n"
            ],
            "application/vnd.google.colaboratory.intrinsic+json": {
              "type": "dataframe",
              "variable_name": "result_df_clean",
              "summary": "{\n  \"name\": \"result_df_clean\",\n  \"rows\": 73,\n  \"fields\": [\n    {\n      \"column\": \"neighborhood\",\n      \"properties\": {\n        \"dtype\": \"category\",\n        \"num_unique_values\": 9,\n        \"samples\": [\n          \"Sant Mart\\u00ed\",\n          \"Eixample\",\n          \"Horta- Guinardo\"\n        ],\n        \"semantic_type\": \"\",\n        \"description\": \"\"\n      }\n    },\n    {\n      \"column\": \"real_state\",\n      \"properties\": {\n        \"dtype\": \"category\",\n        \"num_unique_values\": 2,\n        \"samples\": [\n          \"study\",\n          \"apartment\"\n        ],\n        \"semantic_type\": \"\",\n        \"description\": \"\"\n      }\n    },\n    {\n      \"column\": \"price\",\n      \"properties\": {\n        \"dtype\": \"number\",\n        \"std\": 806,\n        \"min\": 423,\n        \"max\": 6000,\n        \"num_unique_values\": 44,\n        \"samples\": [\n          580,\n          695\n        ],\n        \"semantic_type\": \"\",\n        \"description\": \"\"\n      }\n    },\n    {\n      \"column\": \"square_meters\",\n      \"properties\": {\n        \"dtype\": \"number\",\n        \"std\": 53,\n        \"min\": 15,\n        \"max\": 300,\n        \"num_unique_values\": 36,\n        \"samples\": [\n          22,\n          54\n        ],\n        \"semantic_type\": \"\",\n        \"description\": \"\"\n      }\n    },\n    {\n      \"column\": \"rooms\",\n      \"properties\": {\n        \"dtype\": \"number\",\n        \"std\": 0,\n        \"min\": 0,\n        \"max\": 0,\n        \"num_unique_values\": 1,\n        \"samples\": [\n          0\n        ],\n        \"semantic_type\": \"\",\n        \"description\": \"\"\n      }\n    },\n    {\n      \"column\": \"bathroom\",\n      \"properties\": {\n        \"dtype\": \"number\",\n        \"std\": 0,\n        \"min\": 1,\n        \"max\": 3,\n        \"num_unique_values\": 3,\n        \"samples\": [\n          1\n        ],\n        \"semantic_type\": \"\",\n        \"description\": \"\"\n      }\n    }\n  ]\n}"
            }
          },
          "metadata": {}
        }
      ]
    },
    {
      "cell_type": "markdown",
      "source": [
        "Tras la elaboración de este listado filtrado por tipo de propiedad y centrados en las dos tipologias antes mencionadas, se observan una serie de outliers que consideramos que podrian ser eliminados para evitar dentro de esos grupos distorsiones. Concretamente son aquellos registros que poseen una superficie claramente por encima de la media y que en total ascienden a 4 registros. Dado el infimo numero de registros a eliminar no hace falta plotear un grafico."
      ],
      "metadata": {
        "id": "EKW_-4ZswaIy"
      }
    },
    {
      "cell_type": "markdown",
      "source": [
        "CONCLUSION\n",
        "\n",
        "Tras todas la pruebas realizadas decidimos eliminar todos los registros que siendo estudios o apartamentos y teniendo cero o menos dormitorios, poseen una superficie claramente por encima del resto. Tambien decidimos eliminar el resto de registros que no tienen dormitorios y que no son ni estudios ni apartamentos"
      ],
      "metadata": {
        "id": "pLnRI4MB7ZDl"
      }
    },
    {
      "cell_type": "code",
      "source": [
        "#Implementación de la CONCLUSION\n",
        "\n",
        "# Aislar 4 outliers apartamento o estudio fuera de rango dentro del tipo\n",
        "outliers_cleaned_1 = result_df_clean.nlargest(4, 'square_meters')\n",
        "\n",
        "# Aislar outliers que no son ni apartamento ni estudio\n",
        "outliers_cleaned_2 = inconsistent_rooms_df[~inconsistent_rooms_df['real_state'].isin(['study', 'apartment'])]\n",
        "\n",
        "# Eliminar las filas del DataFrame df_clean\n",
        "outliers_todos = pd.concat([outliers_cleaned_1, outliers_cleaned_2])\n",
        "indices_a_eliminar = outliers_todos.index\n",
        "df_clean_1 = df_clean.drop(indices_a_eliminar)"
      ],
      "metadata": {
        "id": "bylf686X-E3_"
      },
      "execution_count": 46,
      "outputs": []
    },
    {
      "cell_type": "markdown",
      "source": [
        "3. **Normalización de datos**\n",
        "\n",
        "    No hay que unificar formatos de moneda o superficie porque todos los registros entendemos que estan expresados en euros y metros cuadrados respectivamente. Tampoco tenemos opción de saberlo porque no poseemos la fuente primaria de los datos.(El acceso a la web sobre la que hicieron el scrapping). En cualquier caso damos por validos el formato porque en esa web lo común y tradicional es usar esos formatos para los datos.\n",
        "    \n",
        "    Para las categorías barrio y tipo de propiedad, nos aseguraremos de que no haya variaciones en la escritura (p. ej., \"Eixample\" contra \"eixample\")."
      ],
      "metadata": {
        "id": "ki0LotdZ-Hur"
      }
    },
    {
      "cell_type": "code",
      "source": [
        "# Verificar barrios únicos\n",
        "unique_neighborhoods = df_clean_1['neighborhood'].str.lower().str.strip().unique()\n",
        "print(\"Barrios únicos:\", unique_neighborhoods)\n",
        "\n",
        "# Verificar tipos de propiedad únicos\n",
        "unique_real_states = df_clean_1['real_state'].str.lower().str.strip().unique()\n",
        "print(\"Tipos de propiedad únicos:\", unique_real_states)"
      ],
      "metadata": {
        "colab": {
          "base_uri": "https://localhost:8080/",
          "height": 0
        },
        "id": "juzPWSX2_uzx",
        "outputId": "44633d48-73fa-473e-f9e9-1c18dffbdce4"
      },
      "execution_count": 47,
      "outputs": [
        {
          "output_type": "stream",
          "name": "stdout",
          "text": [
            "Barrios únicos: ['horta- guinardo' 'sant andreu' 'gràcia' 'ciutat vella'\n",
            " 'sarria-sant gervasi' 'les corts' 'sant martí' 'eixample'\n",
            " 'sants-montjuïc' 'nou barris']\n",
            "Tipos de propiedad únicos: ['flat' 'attic' 'apartment' 'study']\n"
          ]
        }
      ]
    },
    {
      "cell_type": "markdown",
      "source": [
        "CONCLUSION\n",
        "\n",
        "Del estudio realizado se desprende que no es necesaria ningun tipo de actuación para la normalización de datos en este Dataframe"
      ],
      "metadata": {
        "id": "B9htoFXXBxfJ"
      }
    },
    {
      "cell_type": "markdown",
      "source": [
        "4. **Eliminación de Duplicados**\n",
        "\n",
        "    Busqueda de registros duplicados que puedan distorsionar el análisis\n",
        "    "
      ],
      "metadata": {
        "id": "drs6lMM4B_oy"
      }
    },
    {
      "cell_type": "code",
      "source": [
        "def find_exact_duplicates(df_clean_1):\n",
        "    # Crear una columna temporal que combine los valores de las columnas especificadas\n",
        "    df_clean_1['combined'] = df_clean_1.apply(lambda row: '_'.join(row.astype(str)), axis=1)\n",
        "\n",
        "    # Identificar registros duplicados basados en la columna combinada\n",
        "    duplicate_mask = df_clean_1.duplicated(subset=['combined'], keep=False)\n",
        "\n",
        "    # Filtrar el DataFrame para mostrar solo los registros duplicados\n",
        "    duplicates = df_clean_1[duplicate_mask]\n",
        "\n",
        "    # Eliminar la columna temporal\n",
        "    df_clean_1.drop(columns=['combined'], inplace=True)\n",
        "\n",
        "    return duplicates\n",
        "\n",
        "# Encontrar duplicados exactos\n",
        "exact_duplicates = find_exact_duplicates(df_clean_1)\n",
        "print(exact_duplicates)"
      ],
      "metadata": {
        "colab": {
          "base_uri": "https://localhost:8080/",
          "height": 0
        },
        "id": "dCXcSqGlC18g",
        "outputId": "b0906abf-71b4-4c2a-ba7e-1e22a929263f"
      },
      "execution_count": 48,
      "outputs": [
        {
          "output_type": "stream",
          "name": "stdout",
          "text": [
            "Empty DataFrame\n",
            "Columns: [Unnamed: 0, price, rooms, bathroom, lift, terrace, square_meters, real_state, neighborhood, square_meters_price, combined]\n",
            "Index: []\n"
          ]
        }
      ]
    },
    {
      "cell_type": "markdown",
      "source": [
        "CONCLUSION\n",
        "\n",
        "Del estudio realizado se desprende que no es necesaria ningun tipo de actuación para la eliminación de  duplicados en este Dataframe"
      ],
      "metadata": {
        "id": "-X78VBONG8iN"
      }
    },
    {
      "cell_type": "markdown",
      "source": [
        "5. **Manejo de los Outliers**:\n",
        "\n",
        "    Identificación valores atípicos que podrían ser errores de entrada (por ejemplo, un precio de alquiler extremadamente alto o bajo) y decidiremos si lo mantenemos, lo corregimos o lo eliminamos 5% de outliers por arriba y por abajo"
      ],
      "metadata": {
        "id": "qKek2lf-HWOE"
      }
    },
    {
      "cell_type": "code",
      "source": [
        "def find_outliers(df_clean_1, column):\n",
        "    # Calcular el primer \"cuartil\" (Q1) y el tercer \"cuartil\" (Q3)\n",
        "    Q1 = df_clean_1[column].quantile(0.05)\n",
        "    Q3 = df_clean_1[column].quantile(0.95)\n",
        "    IQR = Q3 - Q1\n",
        "\n",
        "    # Definir los límites inferior y superior para los outliers\n",
        "    lower_bound = Q1 - 1.5 * IQR\n",
        "    upper_bound = Q3 + 1.5 * IQR\n",
        "\n",
        "    # Identificar los outliers\n",
        "    outliers = df_clean_1[(df_clean_1[column] < lower_bound) | (df_clean_1[column] > upper_bound)]\n",
        "\n",
        "    return outliers\n",
        "\n",
        "# Encontrar outliers para cada columna\n",
        "outliers_square_meters = find_outliers(df_clean_1, 'square_meters')[['Unnamed: 0', 'price', 'rooms', 'square_meters', 'bathroom', 'neighborhood', 'real_state']]\n",
        "outliers_price = find_outliers(df_clean_1, 'price')[['Unnamed: 0', 'price', 'rooms', 'square_meters', 'bathroom', 'neighborhood', 'real_state']]\n",
        "outliers_rooms = find_outliers(df_clean_1, 'rooms')[['Unnamed: 0', 'price', 'rooms', 'square_meters', 'bathroom', 'neighborhood', 'real_state']]\n",
        "outliers_bathroom = find_outliers(df_clean_1, 'bathroom')[['Unnamed: 0', 'price', 'rooms', 'square_meters', 'bathroom', 'neighborhood', 'real_state']]\n",
        "\n",
        "# Imprimir resultados sin la columna 'Unnamed: 0' y contar los outliers\n",
        "def print_and_count_outliers(outliers, column_name):\n",
        "    print(f\"Outliers en {column_name}:\")\n",
        "    print(outliers.loc[:, outliers.columns != 'Unnamed: 0'])\n",
        "    print(f\"Total de outliers en {column_name}: {len(outliers)}\\n\")\n",
        "\n",
        "print_and_count_outliers(outliers_square_meters, 'square_meters')\n",
        "print_and_count_outliers(outliers_price, 'price')\n",
        "print_and_count_outliers(outliers_rooms, 'rooms')\n",
        "print_and_count_outliers(outliers_bathroom, 'bathroom')\n"
      ],
      "metadata": {
        "colab": {
          "base_uri": "https://localhost:8080/",
          "height": 0
        },
        "id": "tIfCVSwNHqXI",
        "outputId": "49720a05-2a53-4957-be7c-e10c79fd5274"
      },
      "execution_count": 49,
      "outputs": [
        {
          "output_type": "stream",
          "name": "stdout",
          "text": [
            "Outliers en square_meters:\n",
            "      price  rooms  square_meters  bathroom         neighborhood real_state\n",
            "170    5250      5            395         3         Ciutat Vella      attic\n",
            "400    7000      5            400         5  Sarria-Sant Gervasi       flat\n",
            "536    8500      5            480         5  Sarria-Sant Gervasi       flat\n",
            "1772  15000      4            450         1  Sarria-Sant Gervasi       flat\n",
            "2427  15000      4            450         3  Sarria-Sant Gervasi  apartment\n",
            "2703   5200      4            398         4  Sarria-Sant Gervasi      attic\n",
            "2754  15000      4            450         5  Sarria-Sant Gervasi       flat\n",
            "2867   7000      6            405         6  Sarria-Sant Gervasi       flat\n",
            "3772   5500      5            429         4            Les Corts      attic\n",
            "4220  15000      4            450         3  Sarria-Sant Gervasi       flat\n",
            "4579   5200      5            398         4  Sarria-Sant Gervasi      attic\n",
            "4725  15000      4            475         4  Sarria-Sant Gervasi  apartment\n",
            "6464   5500      5            429         4            Les Corts      attic\n",
            "6833   7000      4            400         5  Sarria-Sant Gervasi       flat\n",
            "7927   8000      4            443         6  Sarria-Sant Gervasi       flat\n",
            "7928  15000      4            450         4  Sarria-Sant Gervasi       flat\n",
            "Total de outliers en square_meters: 16\n",
            "\n",
            "Outliers en price:\n",
            "      price  rooms  square_meters  bathroom         neighborhood real_state\n",
            "312    8482      4            225         7            Les Corts       flat\n",
            "371    8000      4            226         4             Eixample       flat\n",
            "376    8500      3            220         3             Eixample       flat\n",
            "399    9075      4            215         5  Sarria-Sant Gervasi      attic\n",
            "452   10000      3            185         3           Sant Martí      attic\n",
            "471    8500      4            190         3            Les Corts      attic\n",
            "526   12000      3            200         3           Sant Martí      attic\n",
            "536    8500      5            480         5  Sarria-Sant Gervasi       flat\n",
            "579    8000      4            350         4             Eixample      attic\n",
            "628    8500      3            140         3             Eixample  apartment\n",
            "637    8000      4            350         4             Eixample      attic\n",
            "827    8700      3            165         2             Eixample       flat\n",
            "1487  14800      1             80         1         Ciutat Vella  apartment\n",
            "1772  15000      4            450         1  Sarria-Sant Gervasi       flat\n",
            "1828   9075      4            215         5  Sarria-Sant Gervasi       flat\n",
            "2076  13272      5            140         2             Eixample  apartment\n",
            "2427  15000      4            450         3  Sarria-Sant Gervasi  apartment\n",
            "2718  10000      3            180         3             Eixample       flat\n",
            "2751   9500      3            190         4             Eixample       flat\n",
            "2754  15000      4            450         5  Sarria-Sant Gervasi       flat\n",
            "4220  15000      4            450         3  Sarria-Sant Gervasi       flat\n",
            "4223   8500      4            313         5  Sarria-Sant Gervasi      attic\n",
            "4480  13427      4            140         2             Eixample  apartment\n",
            "4725  15000      4            475         4  Sarria-Sant Gervasi  apartment\n",
            "5972  13000      5            280         6             Eixample      attic\n",
            "6275  12000      3            271         3           Sant Martí      attic\n",
            "6278   9000      4            256         3           Sant Martí      attic\n",
            "6913  11730      2             85         2             Eixample  apartment\n",
            "6951  15000      2            288         3             Eixample       flat\n",
            "7440   8500      3            200         3           Sant Martí      attic\n",
            "7491  10550      5            140         3           Sant Martí  apartment\n",
            "7576  13478      5            140         2             Eixample  apartment\n",
            "7646  15000      4            380         5  Sarria-Sant Gervasi  apartment\n",
            "7895   8000      5            280         6  Sarria-Sant Gervasi      attic\n",
            "7927   8000      4            443         6  Sarria-Sant Gervasi       flat\n",
            "7928  15000      4            450         4  Sarria-Sant Gervasi       flat\n",
            "Total de outliers en price: 36\n",
            "\n",
            "Outliers en rooms:\n",
            "      price  rooms  square_meters  bathroom         neighborhood real_state\n",
            "3198   2600     10            220         1            Les Corts       flat\n",
            "3601   7000     10            230         3  Sarria-Sant Gervasi       flat\n",
            "4363   3200      9            312         3             Eixample       flat\n",
            "4504   3500      9            350         4             Eixample       flat\n",
            "7812   2600     10            200         5            Les Corts       flat\n",
            "Total de outliers en rooms: 5\n",
            "\n",
            "Outliers en bathroom:\n",
            "      price  rooms  square_meters  bathroom         neighborhood real_state\n",
            "312    8482      4            225         7            Les Corts       flat\n",
            "5985   1995      4            100         8             Eixample       flat\n",
            "7719   5500      5            280         8  Sarria-Sant Gervasi      attic\n",
            "Total de outliers en bathroom: 3\n",
            "\n"
          ]
        }
      ]
    },
    {
      "cell_type": "markdown",
      "source": [
        "Hemos aislado 60 outliers que quedan fuera de las franjas del 5% fijadas y consideramos realizar una matriz de correlación para determinar como afecta a las variables su posible futura eliminación."
      ],
      "metadata": {
        "id": "Z8JDgjujCwew"
      }
    },
    {
      "cell_type": "code",
      "source": [
        "#Matriz de correlación considerando todos los valores y los todos los valores excepto los outliers\n",
        "\n",
        "# Seleccionar solo las columnas numéricas excepto la columna \"Unnamed: 0\" (esta ultima columna es el key)\n",
        "numeric_columns = df_clean.select_dtypes(include=['number']).drop(columns=['Unnamed: 0'], errors='ignore').columns\n",
        "\n",
        "# Calcular la matriz de correlación para todos los datos\n",
        "correlation_matrix_all = df_clean[numeric_columns].corr()\n",
        "\n",
        "# Calcular la matriz de correlación para los datos filtrados\n",
        "outliers_combined = pd.concat([outliers_square_meters, outliers_price, outliers_rooms, outliers_bathroom]).drop_duplicates() # Combinar todos los outliers en un solo DataFrame y eliminar  duplicados\n",
        "df_clean_1 = df_clean[~df_clean['Unnamed: 0'].isin(outliers_combined['Unnamed: 0'])] # Eliminar los outliers del segundo dataset basándonos en la columna 'Unnamed: 0'\n",
        "correlation_matrix_filtered = df_clean_1[numeric_columns].corr()\n",
        "\n",
        "# Crear la figura con 2 subplots\n",
        "fig, axes = plt.subplots(1, 2, figsize=(16, 6))\n",
        "\n",
        "# Subplots 1 y 2: Matriz de correlación para todos los datos y para los datos filtrados\n",
        "sns.heatmap(correlation_matrix_all, annot=True, cmap='coolwarm', fmt=\".2f\", ax=axes[0], cbar=False)\n",
        "axes[0].set_title('Matriz de Correlación (SIN NaN ni rooms <= 0))')\n",
        "sns.heatmap(correlation_matrix_filtered, annot=True, cmap='coolwarm', fmt=\".2f\", ax=axes[1], cbar=False, yticklabels=False)\n",
        "axes[1].set_title('Matriz de Correlación (SIN NaN ni rooms <=0 ni outliers)')\n",
        "\n",
        "fig.colorbar(axes[0].collections[0], ax=axes, location=\"right\") # Añadir una sola colorbar\n",
        "plt.show()"
      ],
      "metadata": {
        "colab": {
          "base_uri": "https://localhost:8080/",
          "height": 675
        },
        "id": "ByyvT2EOA1Ht",
        "outputId": "8f07d1d3-7a60-4531-d5a9-0521c2f05cc1"
      },
      "execution_count": 50,
      "outputs": [
        {
          "output_type": "display_data",
          "data": {
            "text/plain": [
              "<Figure size 1600x600 with 3 Axes>"
            ],
            "image/png": "[encoded data removed]"
          },
          "metadata": {}
        }
      ]
    },
    {
      "cell_type": "markdown",
      "source": [
        "Visto el resultado de la matriz en el que se observa que no se produce una grave desvirtualización de las relaciones y teniendo en cuenta que previamente habiamos desestimado los registros con numero de habitaciones menor a 1, vamos a testear los resultados de eliminar los registros de outliers al dataframe que contiene los valores con el numero de habitaciones menores a 1 eliminados para tomar la decision final de si eliminamos o no los outliers."
      ],
      "metadata": {
        "id": "qg41uH4ECaR-"
      }
    },
    {
      "cell_type": "code",
      "source": [
        "#Matriz de correlación considerando todos los valores y otra con los todos los valores excepto los outliers y los de habitaciones menor de 1\n",
        "\n",
        "# Seleccionar solo las columnas numéricas excepto la columna \"Unnamed: 0\" (esta ultima columna es el key)\n",
        "numeric_columns = df.select_dtypes(include=['number']).drop(columns=['Unnamed: 0'], errors='ignore').columns\n",
        "\n",
        "# Calcular la matriz de correlación para todos los datos\n",
        "correlation_matrix_all = df[numeric_columns].corr()\n",
        "\n",
        "# Calcular la matriz de correlación para los datos filtrados\n",
        "outliers_combined = pd.concat([outliers_square_meters, outliers_price, outliers_rooms, outliers_bathroom]).drop_duplicates() # Combinar todos los outliers en un solo DataFrame y eliminar  duplicados\n",
        "df_clean_1 = df_clean[~df_clean['Unnamed: 0'].isin(outliers_combined['Unnamed: 0'])] # Eliminar los outliers del segundo dataset basándonos en la columna 'Unnamed: 0'\n",
        "correlation_matrix_filtered = df_clean_1[numeric_columns].corr()\n",
        "\n",
        "# Crear la figura con 2 subplots\n",
        "fig, axes = plt.subplots(1, 2, figsize=(16, 6))\n",
        "\n",
        "# Subplots 1 y 2: Matriz de correlación para todos los datos y para los datos filtrados\n",
        "sns.heatmap(correlation_matrix_all, annot=True, cmap='coolwarm', fmt=\".2f\", ax=axes[0], cbar=False)\n",
        "axes[0].set_title('Matriz de Correlación (Todos los Datos)')\n",
        "sns.heatmap(correlation_matrix_filtered, annot=True, cmap='coolwarm', fmt=\".2f\", ax=axes[1], cbar=False, yticklabels=False)\n",
        "axes[1].set_title('Matriz de Correlación (SIN NaN ni rooms <=0 ni outliers)')\n",
        "\n",
        "fig.colorbar(axes[0].collections[0], ax=axes, location=\"right\") # Añadir una sola colorbar\n",
        "plt.show()"
      ],
      "metadata": {
        "colab": {
          "base_uri": "https://localhost:8080/",
          "height": 675
        },
        "id": "inzhaiL7BsFx",
        "outputId": "6403c8c5-f103-4645-e586-0eb24cc5883e"
      },
      "execution_count": 51,
      "outputs": [
        {
          "output_type": "display_data",
          "data": {
            "text/plain": [
              "<Figure size 1600x600 with 3 Axes>"
            ],
            "image/png": "[encoded data removed]"
          },
          "metadata": {}
        }
      ]
    },
    {
      "cell_type": "markdown",
      "source": [
        "CONCLUSION\n",
        "\n",
        "Tras todas la pruebas realizadas decidimos eliminar todos los registros que se han generado tras nuestro testeo de outlaiers puesto que no afectan en gran media a los datos y su interrelación."
      ],
      "metadata": {
        "id": "KcCcaJf8D2yQ"
      }
    },
    {
      "cell_type": "markdown",
      "source": [
        "6. **Validación de Categorías Booleanas**:\n",
        "    \n",
        "    Para el ascensor y la terraza, asegúrarnos de que los valores sean consistentes (por ejemplo, \"sí\" / \"no\" o 1/0 o Verdadero/Falso, etc.).\n"
      ],
      "metadata": {
        "id": "yDjIapi97E-0"
      }
    },
    {
      "cell_type": "code",
      "source": [
        "# Verificar valores únicos en las columnas 'lift' y 'terrace'\n",
        "print(\"Valores únicos en 'lift':\", df_clean_1['lift'].unique())\n",
        "print(\"Valores únicos en 'terrace':\", df_clean_1['terrace'].unique())"
      ],
      "metadata": {
        "colab": {
          "base_uri": "https://localhost:8080/",
          "height": 0
        },
        "id": "8nkeCbPi7MSd",
        "outputId": "56ce5c8f-d4be-44cd-e49d-6d2a3e45bbb2"
      },
      "execution_count": 52,
      "outputs": [
        {
          "output_type": "stream",
          "name": "stdout",
          "text": [
            "Valores únicos en 'lift': [ True False]\n",
            "Valores únicos en 'terrace': [False  True]\n"
          ]
        }
      ]
    },
    {
      "cell_type": "markdown",
      "source": [
        "CONCLUSION\n",
        "\n",
        "Del estudio realizado se desprende que no es necesaria ningun tipo de actuación en relación a la consistencia de los datos en los campos booleanos en este Dataframe"
      ],
      "metadata": {
        "id": "uDEfPeTC8C8S"
      }
    },
    {
      "cell_type": "markdown",
      "source": [
        "7. **Conversión de Tipos de Datos**:\n",
        "    Asegurar que cada columna tiene el tipo de dato adecuado y en caso contrario convertirlo, como por ejemplo el precio a formato numérico si está en texto, un booleano que sea así, etcétera."
      ],
      "metadata": {
        "id": "OQym2fB_8WzE"
      }
    },
    {
      "cell_type": "code",
      "source": [
        "# Imprimir el tipo de cada variable\n",
        "print(df_clean_1.dtypes)"
      ],
      "metadata": {
        "colab": {
          "base_uri": "https://localhost:8080/",
          "height": 0
        },
        "id": "Y_iCZPX_8sV1",
        "outputId": "712976d1-9130-42ff-bc5d-6f16b7a60687"
      },
      "execution_count": 53,
      "outputs": [
        {
          "output_type": "stream",
          "name": "stdout",
          "text": [
            "Unnamed: 0               int64\n",
            "price                    int64\n",
            "rooms                    int64\n",
            "bathroom                 int64\n",
            "lift                      bool\n",
            "terrace                   bool\n",
            "square_meters            int64\n",
            "real_state              object\n",
            "neighborhood            object\n",
            "square_meters_price    float64\n",
            "dtype: object\n"
          ]
        }
      ]
    },
    {
      "cell_type": "markdown",
      "source": [
        "CONCLUSION\n",
        "\n",
        "Del estudio realizado se desprende que no es necesaria ningun tipo de actuación en relación a la conversión de tipo de dato de los campos en este Dataframe"
      ],
      "metadata": {
        "id": "t-tPiF6m9BR6"
      }
    },
    {
      "cell_type": "markdown",
      "source": [
        "# 2. Análisis Exploratorio de Datos (EDA):"
      ],
      "metadata": {
        "id": "nrAClmipq11J"
      }
    },
    {
      "cell_type": "markdown",
      "source": [
        "# 3. MODELADO PREDICTIVO"
      ],
      "metadata": {
        "id": "g7-AeMibDofB"
      }
    },
    {
      "cell_type": "markdown",
      "source": [
        "FUNCION DE EVALUACIÓN DE MODELOS DE REGRESION"
      ],
      "metadata": {
        "id": "qU-VPGM4R0Ty"
      }
    },
    {
      "cell_type": "code",
      "source": [
        "import numpy as np\n",
        "from sklearn.metrics import mean_absolute_error, mean_squared_error, root_mean_squared_error, r2_score\n",
        "\n",
        "# Función para calcular y mostrar las métricas\n",
        "def evaluate_model(y_true, y_pred):\n",
        "    mae = mean_absolute_error(y_true, y_pred)\n",
        "    # mse = mean_squared_error(y_true, y_pred)\n",
        "    rmse = root_mean_squared_error(y_true, y_pred)\n",
        "    # mape = np.mean(np.abs((y_true - y_pred) / y_true)) * 100\n",
        "    r2 = r2_score(y_true, y_pred)\n",
        "    print(f'MAE: {mae:.4f}')\n",
        "    # print(f'MSE: {mse:.4f}')\n",
        "    print(f'RMSE: {rmse:.4f}')\n",
        "    # print(f'MAPE: {mape:.4f}%')\n",
        "    print(f'R2: {r2:.4f}')"
      ],
      "metadata": {
        "id": "7NEUGrIfSHsO"
      },
      "execution_count": 67,
      "outputs": []
    },
    {
      "cell_type": "markdown",
      "source": [
        "Preparación de variable, cargade datos y librerias y Regresión Lineal"
      ],
      "metadata": {
        "id": "uJQWE0aOMbY8"
      }
    },
    {
      "cell_type": "code",
      "source": [
        "from sklearn.linear_model import LinearRegression\n",
        "from sklearn.model_selection import train_test_split\n",
        "from sklearn.metrics import root_mean_squared_error\n",
        "from sklearn.preprocessing import StandardScaler, OneHotEncoder\n",
        "from sklearn.compose import ColumnTransformer\n",
        "from sklearn.pipeline import Pipeline\n",
        "\n",
        "# PREPARACION DE VARIABLE Y CARGA DE SATOS PARA LOS MODELOS\n",
        "df_model = df_clean_1.copy() # Asegurar la integridad de los datos entre fases\n",
        "\n",
        "# Aplicación de ajustes sobre las columnas del Dataframe a fin de\n",
        "# trabajar con columnas no generadas y con nombres de columnas mas ajustados al contenido de los registros\n",
        "df_model = df_model.rename(columns={df_model.columns[0]: 'key'}) # Renombrar la primera columna sin nombre a 'key'\n",
        "df_model = df_model.rename(columns={'real_state': 'property_type'}) # Renombrar la columna 'real_state' a 'property_type'\n",
        "df_model = df_model.drop(columns=['square_meters_price']) # Eliminar las columnas 'square_meters_price'\n",
        "\n",
        "# Separar características (X) y etiqueta (y)\n",
        "X = df_model.drop(columns=['key', 'price'])\n",
        "y = df_model['price']\n",
        "# DETERMINAR SI REALMENTE df ES DONDE TENGO EL DATAFRAME\n",
        "\n",
        "# División de datos en entrenamiento y prueba\n",
        "X_train, X_test, y_train, y_test = train_test_split(X, y, test_size=0.20, random_state=42)\n",
        "\n",
        "# Pipeline de preprocesamiento y modelo\n",
        "preprocessor = ColumnTransformer(\n",
        "    transformers=[\n",
        "        ('num', StandardScaler(), ['rooms', 'bathroom', 'square_meters']),\n",
        "        ('cat', OneHotEncoder(drop='first'), ['lift', 'terrace', 'property_type', 'neighborhood'])\n",
        "    ]\n",
        ")\n",
        "model = Pipeline(steps=[('preprocessor', preprocessor), ('regressor', LinearRegression())])\n",
        "\n",
        "# Entrenar y evaluar el modelo de REGRESION LINEAL\n",
        "model.fit(X_train, y_train)\n",
        "y_pred = model.predict(X_test)\n",
        "print(\"Regresión Lineal:\")\n",
        "evaluate_model(y_test, y_pred)"
      ],
      "metadata": {
        "id": "C3OwIHpgMZ1T",
        "colab": {
          "base_uri": "https://localhost:8080/",
          "height": 0
        },
        "outputId": "b519ab5f-797c-461c-f3d2-395e7ba7e013"
      },
      "execution_count": 83,
      "outputs": [
        {
          "output_type": "stream",
          "name": "stdout",
          "text": [
            "Regresión Lineal:\n",
            "MAE: 319.5172\n",
            "RMSE: 523.1514\n",
            "R2: 0.6498\n"
          ]
        }
      ]
    },
    {
      "cell_type": "markdown",
      "source": [
        "2. Regresión Ridge"
      ],
      "metadata": {
        "id": "nNpHEaqfMnfw"
      }
    },
    {
      "cell_type": "code",
      "source": [
        "\n",
        "from sklearn.linear_model import Ridge\n",
        "\n",
        "model = Pipeline(steps=[('preprocessor', preprocessor), ('regressor', Ridge(alpha=1.0))])\n",
        "\n",
        "# Entrenar y evaluar el modelo de REGRESION RIDGE\n",
        "model.fit(X_train, y_train)\n",
        "y_pred = model.predict(X_test)\n",
        "print(\"Regresión Ridge:\")\n",
        "evaluate_model(y_test, y_pred)"
      ],
      "metadata": {
        "id": "IfH401vAM5r2",
        "colab": {
          "base_uri": "https://localhost:8080/",
          "height": 0
        },
        "outputId": "45fcb429-89db-4f5f-d9b0-861d0020494d"
      },
      "execution_count": 69,
      "outputs": [
        {
          "output_type": "stream",
          "name": "stdout",
          "text": [
            "Regresión Ridge:\n",
            "MAE: 319.4396\n",
            "RMSE: 523.1242\n",
            "R2: 0.6498\n"
          ]
        }
      ]
    },
    {
      "cell_type": "markdown",
      "source": [
        "3. Regresión Lasso"
      ],
      "metadata": {
        "id": "sy-a77VpNDI4"
      }
    },
    {
      "cell_type": "code",
      "source": [
        "\n",
        "from sklearn.linear_model import Lasso\n",
        "\n",
        "model = Pipeline(steps=[('preprocessor', preprocessor), ('regressor', Lasso(alpha=0.1))])\n",
        "\n",
        "# Entrenar y evaluar el modelo REGRESION LASSO\n",
        "model.fit(X_train, y_train)\n",
        "y_pred = model.predict(X_test)\n",
        "print(\"Regresión Lasso:\")\n",
        "evaluate_model(y_test, y_pred)"
      ],
      "metadata": {
        "id": "nAAYMD9fNV5Q",
        "colab": {
          "base_uri": "https://localhost:8080/",
          "height": 0
        },
        "outputId": "d8c99c0a-5465-478a-dfcd-0c0e9dfb96bf"
      },
      "execution_count": 71,
      "outputs": [
        {
          "output_type": "stream",
          "name": "stdout",
          "text": [
            "Regresión Lasso:\n",
            "MAE: 319.3532\n",
            "RMSE: 523.1356\n",
            "R2: 0.6498\n"
          ]
        }
      ]
    },
    {
      "cell_type": "markdown",
      "source": [
        "4. Regresión ElasticNet"
      ],
      "metadata": {
        "id": "eTxnjc6CNaOL"
      }
    },
    {
      "cell_type": "code",
      "source": [
        "from sklearn.linear_model import ElasticNet\n",
        "\n",
        "model = Pipeline(steps=[('preprocessor', preprocessor), ('regressor', ElasticNet(alpha=0.1, l1_ratio=0.5))])\n",
        "\n",
        "# Entrenar y evaluar el modelo REGRESION ELASTICNET\n",
        "model.fit(X_train, y_train)\n",
        "y_pred = model.predict(X_test)\n",
        "print(\"Regresión ElasticNet:\")\n",
        "evaluate_model(y_test, y_pred)"
      ],
      "metadata": {
        "id": "qIkcVB3zNjT0",
        "colab": {
          "base_uri": "https://localhost:8080/",
          "height": 0
        },
        "outputId": "50ea37c0-bf18-4a15-baa2-78e8580eae41"
      },
      "execution_count": 72,
      "outputs": [
        {
          "output_type": "stream",
          "name": "stdout",
          "text": [
            "Regresión ElasticNet:\n",
            "MAE: 324.9818\n",
            "RMSE: 533.7132\n",
            "R2: 0.6355\n"
          ]
        }
      ]
    },
    {
      "cell_type": "markdown",
      "source": [
        "5. Arbol de decisión de regresión"
      ],
      "metadata": {
        "id": "EffIMfNTNwRv"
      }
    },
    {
      "cell_type": "code",
      "source": [
        "\n",
        "from sklearn.tree import DecisionTreeRegressor\n",
        "\n",
        "model = Pipeline(steps=[('preprocessor', preprocessor), ('regressor', DecisionTreeRegressor(max_depth=5))])\n",
        "\n",
        "# Entrenar y evaluar el modelo ARBOL DE DECISION DE REGRESION\n",
        "model.fit(X_train, y_train)\n",
        "y_pred = model.predict(X_test)\n",
        "print(\"Arbol de decisión de regresión:\")\n",
        "evaluate_model(y_test, y_pred)"
      ],
      "metadata": {
        "id": "ftEYFOriN12l",
        "colab": {
          "base_uri": "https://localhost:8080/",
          "height": 0
        },
        "outputId": "5049b912-7897-4e11-8793-a6eb902c466e"
      },
      "execution_count": 73,
      "outputs": [
        {
          "output_type": "stream",
          "name": "stdout",
          "text": [
            "Arbol de decisión de regresión:\n",
            "MAE: 322.8322\n",
            "RMSE: 553.3558\n",
            "R2: 0.6082\n"
          ]
        }
      ]
    },
    {
      "cell_type": "markdown",
      "source": [
        "6. Random Forest Regresion"
      ],
      "metadata": {
        "id": "cY4EtBtUN8yt"
      }
    },
    {
      "cell_type": "code",
      "source": [
        "\n",
        "from sklearn.ensemble import RandomForestRegressor\n",
        "\n",
        "model = Pipeline(steps=[('preprocessor', preprocessor), ('regressor', RandomForestRegressor(n_estimators=100, max_depth=5, random_state=42))])\n",
        "\n",
        "# Entrenar y evaluar el modelo RANDOM FOREST REGRESION\n",
        "model.fit(X_train, y_train)\n",
        "y_pred = model.predict(X_test)\n",
        "print(\"Random Forest Regresion:\")\n",
        "evaluate_model(y_test, y_pred)"
      ],
      "metadata": {
        "id": "zwT_UdaFOJQv",
        "colab": {
          "base_uri": "https://localhost:8080/",
          "height": 0
        },
        "outputId": "40b1e9a1-6216-435e-8dff-c47321503161"
      },
      "execution_count": 74,
      "outputs": [
        {
          "output_type": "stream",
          "name": "stdout",
          "text": [
            "Random Forest Regresion:\n",
            "MAE: 306.3218\n",
            "RMSE: 507.5410\n",
            "R2: 0.6704\n"
          ]
        }
      ]
    },
    {
      "cell_type": "markdown",
      "source": [
        "7. Regresión por Aumento de Gradiente"
      ],
      "metadata": {
        "id": "7TMEofrbOQ50"
      }
    },
    {
      "cell_type": "code",
      "source": [
        "\n",
        "from sklearn.ensemble import GradientBoostingRegressor\n",
        "\n",
        "model = Pipeline(steps=[('preprocessor', preprocessor), ('regressor', GradientBoostingRegressor(n_estimators=100, max_depth=5, random_state=42))])\n",
        "\n",
        "# Entrenar y evaluar el modelo REGRESION POR AUMENTO DE GRADIENTE\n",
        "model.fit(X_train, y_train)\n",
        "y_pred = model.predict(X_test)\n",
        "print(\"Regresión por Aumento de Gradiente:\")\n",
        "evaluate_model(y_test, y_pred)"
      ],
      "metadata": {
        "id": "AJ3gCKy4OZkJ",
        "colab": {
          "base_uri": "https://localhost:8080/",
          "height": 0
        },
        "outputId": "edcef5bd-df3a-4a36-ee4f-6084d6b15c5c"
      },
      "execution_count": 75,
      "outputs": [
        {
          "output_type": "stream",
          "name": "stdout",
          "text": [
            "Regresión por Aumento de Gradiente:\n",
            "MAE: 283.5478\n",
            "RMSE: 486.3927\n",
            "R2: 0.6973\n"
          ]
        }
      ]
    },
    {
      "cell_type": "markdown",
      "source": [
        "8. Regresión de Vectores de Soporte(SVR)"
      ],
      "metadata": {
        "id": "pCZm-gdFOeaP"
      }
    },
    {
      "cell_type": "code",
      "source": [
        "\n",
        "from sklearn.svm import SVR\n",
        "\n",
        "model = Pipeline(steps=[('preprocessor', preprocessor), ('regressor', SVR(kernel='rbf', C=1.0, epsilon=0.1))])\n",
        "\n",
        "# Entrenar y evaluar el modelo REGRESION SVR\n",
        "model.fit(X_train, y_train)\n",
        "y_pred = model.predict(X_test)\n",
        "print(\"Regresión de Vectores de Soporte:\")\n",
        "evaluate_model(y_test, y_pred)"
      ],
      "metadata": {
        "id": "m9B-9y-8Oi12",
        "colab": {
          "base_uri": "https://localhost:8080/",
          "height": 0
        },
        "outputId": "47ab9f21-6668-4449-cf5f-161676612f87"
      },
      "execution_count": 76,
      "outputs": [
        {
          "output_type": "stream",
          "name": "stdout",
          "text": [
            "Regresión de Vectores de Soporte:\n",
            "MAE: 432.8067\n",
            "RMSE: 831.0992\n",
            "R2: 0.1162\n"
          ]
        }
      ]
    },
    {
      "cell_type": "markdown",
      "source": [
        "9. Regresión de los K Vecinos Más Cercanos (KNN)"
      ],
      "metadata": {
        "id": "1y2Ed8aXO8_d"
      }
    },
    {
      "cell_type": "code",
      "source": [
        "\n",
        "from sklearn.neighbors import KNeighborsRegressor\n",
        "\n",
        "model = Pipeline(steps=[('preprocessor', preprocessor), ('regressor', KNeighborsRegressor(n_neighbors=5))])\n",
        "\n",
        "# Entrenar y evaluar el modelo REGRESION KNN\n",
        "model.fit(X_train, y_train)\n",
        "y_pred = model.predict(X_test)\n",
        "print(\"Regresion KNN:\")\n",
        "evaluate_model(y_test, y_pred)"
      ],
      "metadata": {
        "id": "MlHvF5wxPFBF",
        "colab": {
          "base_uri": "https://localhost:8080/",
          "height": 0
        },
        "outputId": "56bcf494-b889-445d-d4d0-c66107cbc767"
      },
      "execution_count": 77,
      "outputs": [
        {
          "output_type": "stream",
          "name": "stdout",
          "text": [
            "Regresion KNN:\n",
            "MAE: 303.5515\n",
            "RMSE: 502.0269\n",
            "R2: 0.6775\n"
          ]
        }
      ]
    },
    {
      "cell_type": "markdown",
      "source": [
        "**RESUMEN DE RESULTADOS, ANALISIS Y CONCLUSION DE LOS 9 MODELOS APLICADOS**\n",
        "\n",
        "**Resumen de resultados:**\n",
        "\n",
        "| Modelo                         | MAE       | RMSE      | R2        |\n",
        "|----------------------------------|-----------|-----------|------------|\n",
        "| Regresión Lineal             | 319.5172  | 523.1514  | 0.6498     |\n",
        "| Regresión Ridge              | 319.5284  | 523.1484  | 0.6498     |\n",
        "| Regresión Lasso              | 319.9743  | 523.6461  | 0.6493     |\n",
        "| Regresión ElasticNet          | 329.5118  | 532.8907  | 0.6399     |\n",
        "| Árbol de decisión de regresión | 356.2101  | 575.0102  | 0.5881     |\n",
        "| Random Forest Regresion       | 334.2737  | 540.3279  | 0.6325     |\n",
        "| Regresión por Aumento de Gradiente| 296.0281  | 490.0134  | 0.6831     |\n",
        "| Regresión de Vectores de Soporte| 489.4126  | 711.4455  | 0.3970     |\n",
        "| Regresion KNN                | 363.9793  | 582.2788  | 0.5799     |\n",
        "\n",
        "---\n",
        "**Análisis:**\n",
        "\n",
        "*   **MAE (Error Absoluto Medio):** Mide la magnitud promedio de los errores en las predicciones. Un valor más bajo es mejor. Gradient Boosting tiene el MAE más bajo (296.0281).\n",
        "*   **RMSE (Error Cuadrático Medio):** Similar al MAE, pero penaliza más los errores grandes. Un valor más bajo es mejor. Gradient Boosting también tiene el RMSE más bajo (490.0134).\n",
        "*   **R2 (Coeficiente de determinación):** Indica la proporción de la varianza en la variable objetivo que se explica por el modelo. Un valor más cercano a 1 es mejor. Gradient Boosting tiene el R2 más alto (0.6831).\n",
        "\n",
        "**Conclusión:**\n",
        "\n",
        "*   **Gradient Boosting** parece ser el modelo con mejor rendimiento general en nuestro caso, con el MAE, RMSE y R2 más favorables.\n",
        "*   **Regresión Lineal, Ridge y Lasso** tienen un rendimiento similar y bastante bueno, con valores de MAE, RMSE y R2 relativamente bajos.\n",
        "*   **ElasticNet, Árbol de decisión, Random Forest y KNN** tienen un rendimiento moderado, pero no tan bueno como los modelos anteriores.\n",
        "*   **Regresión de Vectores de Soporte (SVR)** tiene el peor rendimiento en este caso, con valores de MAE y RMSE mucho más altos y un R2 bajo.\n",
        "\n",
        "\n",
        "**Consideraciones adicionales:**\n",
        "\n",
        "*   Hemos de recordar que los resultados son específicos de nuestro conjunto de datos y la forma en que dividimos el entrenamiento y la prueba.\n",
        "*   Podria sernos útil ajustar los hiperparámetros de los modelos para intentar mejorar más el rendimiento.\n",
        "*   Debemos tener en cuenta si el modelo es interpretable y tamboién su precisión para elegir el modelo final.\n",
        "*   La regresión busca una relación matemática, no una causalidad.\n",
        "\n",
        "En lineas generales, el modelo **Gradient Boosting** parece ser la **mejor opción** para este caso, con los parámetros usados en los modelos pero como deciamos antes quizá deberiamos probar a ajustar los modelos con la división de test/prueba y con los hiperparametros para probar si obtenemos un mejor resultado."
      ],
      "metadata": {
        "id": "uDMtJzcViFqt"
      }
    },
    {
      "cell_type": "markdown",
      "source": [
        "# **GUIAS TECNICAS Y PRACTICA/DIDACTICA PARA LA INTERPRETACION DE LOS MODELOS Y SUS RESULTADOS**"
      ],
      "metadata": {
        "id": "94UId6Lfsamx"
      }
    },
    {
      "cell_type": "markdown",
      "source": [
        "# **Modelo de regresión, sus ventajas, desventajas, y ejemplos prácticos de cuándo se suele usar cada uno.**\n",
        "\n",
        "---\n",
        "\n",
        "### 1. **Regresión Lineal** (`Linear Regression`)\n",
        "\n",
        "La regresión lineal es uno de los modelos más básicos y se basa en la suposición de que existe una relación lineal entre las características de entrada y la variable objetivo. Es ideal para problemas en los que los datos siguen aproximadamente una línea recta.\n",
        "\n",
        "- **Ventajas**: Fácil de interpretar y rápido de entrenar. Es útil cuando se requiere un modelo explicativo con pocos datos o pocas características.\n",
        "- **Desventajas**: Asume una relación lineal entre las variables y es sensible a valores atípicos.\n",
        "- **Cuándo usarlo**: Para relaciones simples y lineales, especialmente cuando se necesita interpretabilidad.\n",
        "- **Ejemplo**: Predecir el precio de una vivienda en función de características como metros cuadrados, número de habitaciones y número de baños en un vecindario con precios estables.\n",
        "\n",
        "---\n",
        "\n",
        "### 2. **Regresión Ridge** (`Ridge Regression`)\n",
        "\n",
        "La regresión Ridge es una extensión de la regresión lineal que agrega una penalización L2, que reduce el efecto de variables que podrían estar causando sobreajuste (cuando el modelo es demasiado preciso en los datos de entrenamiento y pierde precisión en los datos de prueba).\n",
        "\n",
        "- **Ventajas**: Controla el sobreajuste, especialmente en conjuntos de datos con características muy correlacionadas (multicolinealidad).\n",
        "- **Desventajas**: La penalización puede hacer que el modelo sea menos intuitivo y requiere ajuste del parámetro de regularización.\n",
        "- **Cuándo usarlo**: Cuando hay muchas variables correlacionadas o si necesitas reducir el sobreajuste sin eliminar variables.\n",
        "- **Ejemplo**: Predicción del precio de una vivienda en función de características de la casa y del vecindario, donde algunas variables están altamente correlacionadas, como el tamaño y el número de habitaciones.\n",
        "\n",
        "---\n",
        "\n",
        "### 3. **Regresión Lasso** (`Lasso Regression`)\n",
        "\n",
        "La regresión Lasso utiliza una penalización L1, lo que no solo reduce el sobreajuste, sino que también puede reducir algunos coeficientes a cero, eliminando así características irrelevantes. Esto hace que Lasso sea útil para la selección de características.\n",
        "\n",
        "- **Ventajas**: Reduce el sobreajuste y realiza selección de características, lo que ayuda en modelos interpretables.\n",
        "- **Desventajas**: Puede eliminar variables importantes si estas son menos significativas en comparación con otras, y su estabilidad disminuye si hay muchas características correlacionadas.\n",
        "- **Cuándo usarlo**: Cuando tienes muchas características y deseas hacer una selección automática de las más relevantes.\n",
        "- **Ejemplo**: Predicción del precio de una vivienda en función de muchas características, donde algunas pueden no ser relevantes, como variables sobre materiales de construcción si ya se considera el año de construcción.\n",
        "\n",
        "---\n",
        "\n",
        "### 4. **ElasticNet Regression**\n",
        "\n",
        "ElasticNet combina las penalizaciones L1 y L2 de Lasso y Ridge, lo cual resulta útil para casos en los que hay muchas características, algunas de las cuales pueden estar correlacionadas entre sí.\n",
        "\n",
        "- **Ventajas**: Combina lo mejor de Lasso y Ridge, controlando el sobreajuste y seleccionando características.\n",
        "- **Desventajas**: Requiere ajuste de dos hiperparámetros (alpha para regularización y l1_ratio para combinar las penalizaciones L1 y L2).\n",
        "- **Cuándo usarlo**: Cuando tienes muchas características, algunas de las cuales están correlacionadas entre sí, y deseas un balance entre reducción de sobreajuste y selección de características.\n",
        "- **Ejemplo**: Predicción de precios de viviendas considerando factores como la ubicación, el tamaño, características del vecindario y año de construcción, donde algunos de estos factores podrían estar correlacionados.\n",
        "\n",
        "---\n",
        "\n",
        "### 5. **Regresión con Árbol de Decisión** (`Decision Tree Regression`)\n",
        "\n",
        "Este modelo segmenta los datos en diferentes subconjuntos basándose en preguntas binarias, creando un \"árbol\" de decisiones que segmenta el espacio de predicción en rectángulos. Funciona bien con relaciones no lineales complejas y es fácil de interpretar.\n",
        "\n",
        "- **Ventajas**: No requiere mucho procesamiento de datos (por ejemplo, escalado de características), es interpretable y puede capturar relaciones no lineales.\n",
        "- **Desventajas**: Propenso al sobreajuste en datos con ruido, y su rendimiento puede variar según la profundidad del árbol.\n",
        "- **Cuándo usarlo**: Cuando tienes relaciones no lineales complejas y necesitas interpretabilidad.\n",
        "- **Ejemplo**: Predecir el precio de una vivienda en función de la ubicación (urbana/rural), tipo de propiedad y cercanía a servicios, donde puede haber relaciones complejas entre variables.\n",
        "\n",
        "---\n",
        "\n",
        "### 6. **Bosque Aleatorio** (`Random Forest Regression`)\n",
        "\n",
        "Un Random Forest es un conjunto de múltiples árboles de decisión, donde cada árbol se entrena en una muestra diferente de los datos y se promedian las predicciones. Esto mejora la precisión del modelo al reducir el sobreajuste.\n",
        "\n",
        "- **Ventajas**: Reduce el sobreajuste y es más robusto que un solo árbol de decisión. Además, puede manejar relaciones no lineales.\n",
        "- **Desventajas**: Consume más recursos y es menos interpretable que un árbol único.\n",
        "- **Cuándo usarlo**: Cuando tienes relaciones no lineales y quieres mejorar la precisión sin sobreajustar.\n",
        "- **Ejemplo**: Predecir el precio de una vivienda considerando variables complejas, como características estructurales, demográficas y del vecindario.\n",
        "\n",
        "---\n",
        "\n",
        "### 7. **Gradient Boosting Regression**\n",
        "\n",
        "Este es otro método basado en árboles que construye secuencialmente un conjunto de árboles de decisión, donde cada árbol intenta corregir los errores de los árboles anteriores. Es muy preciso y captura relaciones complejas.\n",
        "\n",
        "- **Ventajas**: Es uno de los modelos más potentes para datos con relaciones complejas, especialmente cuando los datos están bien ajustados.\n",
        "- **Desventajas**: Consume mucho tiempo de entrenamiento y es propenso al sobreajuste si no se ajusta bien.\n",
        "- **Cuándo usarlo**: Cuando necesitas un modelo muy preciso y tienes suficiente tiempo de procesamiento para entrenarlo.\n",
        "- **Ejemplo**: Predecir el precio de una vivienda en función de varias características complejas, incluyendo características del vecindario, clima y servicios, donde existen interacciones no lineales entre factores.\n",
        "\n",
        "---\n",
        "\n",
        "### 8. **Support Vector Regression (SVR)**\n",
        "\n",
        "SVR utiliza un margen o \"tubo\" alrededor de los datos, y solo ajusta los puntos que están fuera de ese margen. Es útil para datos con ruido o valores atípicos, o donde las relaciones no son completamente lineales.\n",
        "\n",
        "- **Ventajas**: Robusto frente al ruido y puede capturar relaciones complejas no lineales.\n",
        "- **Desventajas**: Es computacionalmente intensivo y no se adapta bien a conjuntos de datos muy grandes.\n",
        "- **Cuándo usarlo**: Cuando tienes un conjunto de datos pequeño o mediano con posibles valores atípicos y relaciones no lineales.\n",
        "- **Ejemplo**: Predecir el precio de una vivienda en una pequeña área metropolitana, donde los precios pueden variar considerablemente debido a factores exclusivos del vecindario.\n",
        "\n",
        "---\n",
        "\n",
        "### 9. **K-Nearest Neighbors Regression** (`KNN Regression`)\n",
        "\n",
        "KNN es un modelo basado en instancias que predice el valor objetivo basándose en los \"k\" vecinos más cercanos. No asume ninguna relación particular entre características y objetivo, lo que lo hace útil para relaciones complejas.\n",
        "\n",
        "- **Ventajas**: No asume una forma específica para la relación entre características y objetivo, y es fácil de implementar.\n",
        "- **Desventajas**: Sensible a la escala de los datos y consume tiempo en grandes conjuntos de datos.\n",
        "- **Cuándo usarlo**: Para relaciones no lineales y cuando los datos son de tamaño mediano y tienen una escala uniforme.\n",
        "- **Ejemplo**: Predicción del precio de una vivienda en función de características similares en el vecindario, considerando solo las viviendas más cercanas para hacer la predicción.\n",
        "\n",
        "---\n",
        "\n",
        "### Resumen de Aplicaciones\n",
        "\n",
        "- **Regresión Lineal, Ridge, Lasso, ElasticNet**: Son adecuados para datos con relaciones lineales o cuando necesitas interpretabilidad y control sobre el sobreajuste.\n",
        "- **Árbol de Decisión, Random Forest, Gradient Boosting**: Son útiles para relaciones no lineales y efectos complejos. Random Forest y Gradient Boosting suelen ser más robustos y precisos.\n",
        "- **SVR**: Útil en datos pequeños con relaciones no completamente lineales y con valores atípicos.\n",
        "- **KNN**: Es útil en análisis locales o vecinales y para relaciones complejas sin una forma específica, siempre y cuando el conjunto de datos no sea demasiado grande.\n",
        "\n",
        "La elección final depende de la relación entre las características y el objetivo, el tamaño y calidad de los datos, y el nivel de interpretabilidad y precisión que necesites."
      ],
      "metadata": {
        "id": "L14nBABTaaad"
      }
    },
    {
      "cell_type": "markdown",
      "source": [
        "# **Explicación PRÁCTICA Y DIDÁCTICA de métricas de evaluación para regresión.**\n",
        "\n",
        "### 1. **Error Cuadrático Medio (MSE)**\n",
        "\n",
        "- **¿Qué es?**: Es una medida que indica cuánto se desvían, en promedio, las predicciones del modelo de los valores reales. Se calcula tomando la diferencia entre cada predicción y el valor real, elevando al cuadrado esas diferencias (para evitar que se cancelen entre sí), y luego promediando esos valores.\n",
        "\n",
        "- **Interpretación**: Un MSE más bajo significa que el modelo está haciendo mejores predicciones. Sin embargo, como se elevan al cuadrado las diferencias, un MSE más alto indica errores significativos.\n",
        "\n",
        "- **Cuándo usarlo**: Cuando te preocupa especialmente cometer errores grandes. Por ejemplo, en un modelo de precios de viviendas, un error grande podría tener un impacto financiero significativo.\n",
        "\n",
        "---\n",
        "\n",
        "### 2. **Raíz del Error Cuadrático Medio (RMSE)**\n",
        "\n",
        "- **¿Qué es?**: Es simplemente la raíz cuadrada del MSE. Se hace esto para volver a las mismas unidades que los valores reales, lo que facilita la interpretación.\n",
        "\n",
        "- **Interpretación**: Al igual que el MSE, un RMSE más bajo significa mejores predicciones. La ventaja es que ahora puedes entenderlo más fácilmente, porque está en las mismas unidades que el precio de la vivienda, por ejemplo.\n",
        "\n",
        "- **Cuándo usarlo**: Se utiliza a menudo porque es más intuitivo. Si tienes un modelo de precios, y el RMSE es $10,000, significa que en promedio te estás equivocando en $10,000.\n",
        "\n",
        "---\n",
        "\n",
        "### 3. **Error Absoluto Medio (MAE)**\n",
        "\n",
        "- **¿Qué es?**: Esta métrica mide la diferencia promedio entre las predicciones y los valores reales, pero sin elevarlas al cuadrado. Simplemente se toma la diferencia absoluta.\n",
        "\n",
        "- **Interpretación**: Al ser una media de errores absolutos, un MAE más bajo significa que el modelo es más preciso. También está en las mismas unidades que los valores reales, lo que lo hace fácil de entender.\n",
        "\n",
        "- **Cuándo usarlo**: Es útil cuando quieres evitar que los errores grandes influyan demasiado en la evaluación del modelo. Ideal para situaciones donde hay posibles errores atípicos.\n",
        "\n",
        "---\n",
        "\n",
        "### 4. **Error Absoluto Medio Porcentual (MAPE)**\n",
        "\n",
        "- **¿Qué es?**: Este mide el error promedio como un porcentaje. Compara la diferencia entre la predicción y el valor real en relación al valor real.\n",
        "\n",
        "- **Interpretación**: Muestra qué tan lejos están tus predicciones en términos porcentuales, lo que es útil para entender la precisión de un modelo en relación a diferentes escalas. Por ejemplo, si un modelo tiene un MAPE de 5%, eso significa que, en promedio, sus predicciones son un 5% diferentes de los valores reales.\n",
        "\n",
        "- **Cuándo usarlo**: Es útil cuando deseas comparar errores entre diferentes conjuntos de datos o escalas, pero no se recomienda cuando los valores reales son cero o muy pequeños.\n",
        "\n",
        "---\n",
        "\n",
        "### 5. **R-cuadrado (R²)**\n",
        "\n",
        "- **¿Qué es?**: Esta métrica mide cuánta variación de los valores reales es explicada por el modelo. Se expresa como un número entre 0 y 1, donde 1 significa que el modelo explica toda la variación.\n",
        "\n",
        "- **Interpretación**: Un R² más alto indica que el modelo hace un buen trabajo explicando los datos. Si R² es 0.8, significa que el 80% de la variación en los precios de las casas es explicada por el modelo.\n",
        "\n",
        "- **Cuándo usarlo**: Es útil para tener una idea general de qué tan bien está funcionando tu modelo, aunque no siempre es la mejor métrica, especialmente con datos no lineales.\n",
        "\n",
        "---\n",
        "\n",
        "### 6. **Error Cuadrático Medio Logarítmico (MSLE)**\n",
        "\n",
        "- **¿Qué es?**: Esta métrica se parece al MSE, pero en lugar de trabajar con los valores directamente, trabaja con sus logaritmos. Esto es útil cuando los datos pueden tener un rango amplio.\n",
        "\n",
        "- **Interpretación**: El MSLE es menos sensible a errores en valores altos y se centra más en errores relativos, lo que puede ser útil en situaciones donde los datos crecen exponencialmente.\n",
        "\n",
        "- **Cuándo usarlo**: Es útil en casos donde los valores varían mucho, como en predicciones de población o ingresos.\n",
        "\n",
        "---\n",
        "\n",
        "### Resumen Visual de Cuándo Usar Cada Métrica\n",
        "\n",
        "- **MSE**: Cuando te preocupan mucho los errores grandes.\n",
        "- **RMSE**: Para una interpretación clara en las mismas unidades que los datos.\n",
        "- **MAE**: Cuando quieres evitar que los errores grandes afecten tu evaluación.\n",
        "- **MAPE**: Para comparar errores entre diferentes conjuntos de datos en términos porcentuales.\n",
        "- **R²**: Para entender qué tan bien el modelo explica los datos.\n",
        "- **MSLE**: Cuando los datos tienen un rango amplio o crecen exponencialmente.\n",
        "\n",
        "### Ejemplo Simple\n",
        "\n",
        "Imagina que estás tratando de predecir el precio de una vivienda. Si tu modelo predice $200,000, pero el precio real es $210,000:\n",
        "\n",
        "- **MSE**: (210,000 - 200,000)² = $100,000,000 → MSE sería alto si tienes muchos errores grandes.\n",
        "- **RMSE**: √MSE → Fácil de entender, vuelve a unidades de dólares.\n",
        "- **MAE**: |210,000 - 200,000| = $10,000 → Sabes que en promedio te estás equivocando en $10,000.\n",
        "- **MAPE**: (|210,000 - 200,000| / 210,000) × 100 = 4.76% → Sabes que estás a un 4.76% del precio real.\n",
        "- **R²**: Mide cuánto de la variación en los precios es explicada por tu modelo.\n",
        "- **MSLE**: Compara el logaritmo de los valores, útil si tienes un rango de precios muy amplio.\n",
        "\n",
        "Con esta información, ahora tienes una mejor idea de cómo se evalúan los modelos de regresión y cuál podría ser la métrica más adecuada según tu situación. Si tienes más preguntas o necesitas ejemplos específicos, ¡no dudes en preguntar!"
      ],
      "metadata": {
        "id": "oUPVLB76eG8B"
      }
    },
    {
      "cell_type": "markdown",
      "source": [
        "# **Explicación TÉCNICA de métricas de evaluación más importantes para problemas de regresión, sus usos y cómo interpretarlas**\n",
        "---\n",
        "\n",
        "### 1. **Error Cuadrático Medio (MSE - Mean Squared Error)**\n",
        "\n",
        "El MSE mide el promedio de los cuadrados de las diferencias entre los valores reales y las predicciones del modelo. Como eleva al cuadrado las diferencias, penaliza más los errores grandes, por lo que es sensible a valores atípicos.\n",
        "\n",
        "- **Fórmula**:\n",
        "  \\[\n",
        "  \\text{MSE} = \\frac{1}{n} \\sum_{i=1}^{n} (y_i - \\hat{y}_i)^2\n",
        "  \\]\n",
        "  donde \\( y_i \\) es el valor real, \\( \\hat{y}_i \\) es la predicción, y \\( n \\) es el número total de observaciones.\n",
        "\n",
        "- **Interpretación**: Un MSE más bajo indica mejor precisión, pero como los valores están al cuadrado, no es directamente interpretable en las unidades originales de la variable objetivo.\n",
        "\n",
        "- **Cuándo usarlo**: Ideal cuando quieres penalizar fuertemente los errores grandes. Se usa mucho en problemas donde los errores grandes son indeseables, como en sistemas de recomendación y predicciones financieras.\n",
        "\n",
        "---\n",
        "\n",
        "### 2. **Raíz del Error Cuadrático Medio (RMSE - Root Mean Squared Error)**\n",
        "\n",
        "La RMSE es simplemente la raíz cuadrada del MSE, lo que la lleva de vuelta a las mismas unidades que la variable objetivo, haciéndola más fácil de interpretar.\n",
        "\n",
        "- **Fórmula**:\n",
        "  \\[\n",
        "  \\text{RMSE} = \\sqrt{\\frac{1}{n} \\sum_{i=1}^{n} (y_i - \\hat{y}_i)^2}\n",
        "  \\]\n",
        "\n",
        "- **Interpretación**: Al igual que el MSE, un RMSE más bajo indica mejor precisión. La ventaja es que el RMSE está en las mismas unidades que la variable de salida.\n",
        "\n",
        "- **Cuándo usarlo**: Es útil cuando deseas una interpretación más directa en las mismas unidades que la variable objetivo. Es especialmente popular en aplicaciones de predicción de precios, como bienes raíces y ventas.\n",
        "\n",
        "---\n",
        "\n",
        "### 3. **Error Absoluto Medio (MAE - Mean Absolute Error)**\n",
        "\n",
        "El MAE mide el promedio de las diferencias absolutas entre los valores reales y las predicciones, sin elevarlas al cuadrado, por lo que no penaliza tan fuertemente los errores grandes como el MSE.\n",
        "\n",
        "- **Fórmula**:\n",
        "  \\[\n",
        "  \\text{MAE} = \\frac{1}{n} \\sum_{i=1}^{n} |y_i - \\hat{y}_i|\n",
        "  \\]\n",
        "\n",
        "- **Interpretación**: El MAE también mide la precisión del modelo, y un MAE más bajo indica un modelo más preciso. Es fácil de interpretar ya que da el promedio de los errores en las mismas unidades que la variable de salida.\n",
        "\n",
        "- **Cuándo usarlo**: Es una buena opción cuando tienes valores atípicos en los datos, ya que es menos sensible a estos en comparación con el MSE o RMSE. Suele ser útil en aplicaciones de predicción de energía o temperatura.\n",
        "\n",
        "---\n",
        "\n",
        "### 4. **Error Absoluto Medio Porcentual (MAPE - Mean Absolute Percentage Error)**\n",
        "\n",
        "El MAPE calcula el error promedio en porcentaje, lo que permite interpretar el error en términos relativos y compararlo entre diferentes escalas de datos.\n",
        "\n",
        "- **Fórmula**:\n",
        "  \\[\n",
        "  \\text{MAPE} = \\frac{1}{n} \\sum_{i=1}^{n} \\left| \\frac{y_i - \\hat{y}_i}{y_i} \\right| \\times 100\n",
        "  \\]\n",
        "\n",
        "- **Interpretación**: Da el error en porcentaje, lo que facilita la comparación entre distintos modelos y escalas de datos. Un MAPE bajo indica una buena precisión.\n",
        "\n",
        "- **Cuándo usarlo**: Útil cuando deseas evaluar el error en términos relativos (porcentaje). Sin embargo, no es adecuado si algunos valores reales son cero o muy cercanos a cero, ya que esto haría que el MAPE explote.\n",
        "\n",
        "---\n",
        "\n",
        "### 5. **R-cuadrado o Coeficiente de Determinación (R² - R-squared)**\n",
        "\n",
        "El R² mide la proporción de la varianza en la variable dependiente que es explicada por el modelo. Es un valor entre 0 y 1, donde un R² cercano a 1 indica que el modelo explica bien la varianza de los datos.\n",
        "\n",
        "- **Fórmula**:\n",
        "  \\[\n",
        "  R^2 = 1 - \\frac{\\sum_{i=1}^{n} (y_i - \\hat{y}_i)^2}{\\sum_{i=1}^{n} (y_i - \\bar{y})^2}\n",
        "  \\]\n",
        "  donde \\( \\bar{y} \\) es el valor promedio de la variable dependiente.\n",
        "\n",
        "- **Interpretación**: Un valor de R² cercano a 1 indica que el modelo explica bien los datos, mientras que un valor cercano a 0 sugiere que el modelo no explica casi nada. Un R² negativo indica que el modelo es peor que simplemente usar el promedio de los datos.\n",
        "\n",
        "- **Cuándo usarlo**: R² es útil para entender qué tan bien el modelo explica la variación en los datos, pero puede no ser fiable cuando tienes datos no lineales o muchos valores atípicos.\n",
        "\n",
        "---\n",
        "\n",
        "### 6. **Error Cuadrático Medio Logarítmico (MSLE - Mean Squared Logarithmic Error)**\n",
        "\n",
        "El MSLE calcula el MSE entre los logaritmos de los valores reales y los valores predichos. Es útil para problemas donde los errores relativos son más importantes que los errores absolutos y los valores están en diferentes escalas.\n",
        "\n",
        "- **Fórmula**:\n",
        "  \\[\n",
        "  \\text{MSLE} = \\frac{1}{n} \\sum_{i=1}^{n} (\\log(1 + y_i) - \\log(1 + \\hat{y}_i))^2\n",
        "  \\]\n",
        "\n",
        "- **Interpretación**: El MSLE penaliza los errores de bajo valor, por lo que es útil cuando deseas evaluar errores relativos y minimizar la importancia de errores grandes en escalas más pequeñas.\n",
        "\n",
        "- **Cuándo usarlo**: Útil en situaciones donde se espera un crecimiento exponencial y no se quiere penalizar demasiado las grandes diferencias entre valores altos, como en predicciones de crecimiento de población o ingresos.\n",
        "\n",
        "---\n",
        "\n",
        "### Resumen de Cuándo Usar Cada Métrica\n",
        "\n",
        "| **Métrica** | **Uso recomendado** |\n",
        "|-------------|----------------------|\n",
        "| **MSE**     | Cuando se desea penalizar fuertemente errores grandes. Útil en casos donde se requiere una evaluación precisa sin tolerancia para errores grandes. |\n",
        "| **RMSE**    | Similar al MSE, pero más fácil de interpretar en las mismas unidades que la variable de salida. Ideal para aplicaciones prácticas como precios. |\n",
        "| **MAE**     | Menos sensible a valores atípicos, ideal para datos con posibles anomalías o valores atípicos. |\n",
        "| **MAPE**    | Útil para comparar el error relativo entre conjuntos de datos de diferentes escalas. No se recomienda para datos que puedan tener valores cero o cercanos a cero. |\n",
        "| **R²**      | Mide la capacidad explicativa del modelo, útil para obtener una idea general de la calidad del ajuste. No es fiable con datos no lineales. |\n",
        "| **MSLE**    | Útil cuando quieres evaluar errores relativos y los datos tienen un crecimiento exponencial o escalas variadas. |\n",
        "\n",
        "Seleccionar la métrica adecuada depende del contexto de tu problema, las características de tus datos, y la importancia que le des a los errores relativos o absolutos."
      ],
      "metadata": {
        "id": "y50uUwG2bmh-"
      }
    }
  ]
}